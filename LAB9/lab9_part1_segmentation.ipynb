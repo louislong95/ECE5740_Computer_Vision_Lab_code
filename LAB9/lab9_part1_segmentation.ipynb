{
  "nbformat": 4,
  "nbformat_minor": 0,
  "metadata": {
    "colab": {
      "name": "lab9_part1_segmentation.ipynb",
      "provenance": [],
      "collapsed_sections": []
    },
    "kernelspec": {
      "name": "python3",
      "display_name": "Python 3"
    },
    "accelerator": "GPU"
  },
  "cells": [
    {
      "cell_type": "markdown",
      "metadata": {
        "id": "0MQUf2H0qGGB",
        "colab_type": "text"
      },
      "source": [
        "Part1"
      ]
    },
    {
      "cell_type": "markdown",
      "metadata": {
        "id": "TZE5yd9mqIh-",
        "colab_type": "text"
      },
      "source": [
        "In this part, I do the segmentaion based on the red dataset"
      ]
    },
    {
      "cell_type": "code",
      "metadata": {
        "id": "5rvvF7FPQKhM",
        "colab_type": "code",
        "colab": {}
      },
      "source": [
        "import numpy as np\n",
        "import torch\n",
        "import torchvision\n",
        "import torchvision.transforms as transforms\n",
        "import torchvision.datasets as datasets\n",
        "from torch.autograd import Variable\n",
        "import matplotlib.pyplot as plt\n",
        "from PIL import Image\n",
        "import os\n",
        "import copy\n",
        "import torch.utils.data as data_utils\n",
        "import requests, zipfile, io\n",
        "import matplotlib.cm as cm\n",
        "from matplotlib.colors import ListedColormap\n",
        "\n",
        "%matplotlib inline"
      ],
      "execution_count": 0,
      "outputs": []
    },
    {
      "cell_type": "markdown",
      "metadata": {
        "id": "ckUMiZGbTJtT",
        "colab_type": "text"
      },
      "source": [
        "Firstly, we need to download the red dataset, using the provided url"
      ]
    },
    {
      "cell_type": "code",
      "metadata": {
        "id": "iqWX_XJlQUWy",
        "colab_type": "code",
        "colab": {}
      },
      "source": [
        "url = 'https://www.via.cornell.edu/ece5470/Lab9data1r.zip'\n",
        "r=requests.get(url).content\n",
        "\n",
        "#save data in data dir\n",
        "z = zipfile.ZipFile(io.BytesIO(r))\n",
        "# os.mkdir('data1')\n",
        "z.extractall('./data1')"
      ],
      "execution_count": 0,
      "outputs": []
    },
    {
      "cell_type": "code",
      "metadata": {
        "id": "PPGz7CIxQgFX",
        "colab_type": "code",
        "colab": {}
      },
      "source": [
        "\"\"\" Custom datatset loader\n",
        "    based on https://github.com/utkuozbulak/pytorch-custom-dataset-examples\n",
        "\"\"\"\n",
        "import pandas as pd\n",
        "import imageio\n",
        "\n",
        "class SimpleDataset():\n",
        "    def __init__(self, data_path, csv_name, transform = None ):\n",
        "        \"\"\"\n",
        "        Args:\n",
        "            data_path (string): path to the folder where images and csv files are located\n",
        "            csv_name (string): name of the csv lablel file\n",
        "            transform: pytorch transforms for transforms and tensor conversion\n",
        "        \"\"\"\n",
        "        # Set path\n",
        "        self.data_path = data_path\n",
        "        \n",
        "        # Read the csv file\n",
        "        self.data_info = pd.read_csv(data_path + csv_name, header=0)\n",
        "       \n",
        "        # First column contains the image paths\n",
        "        self.image_arr = np.asarray(self.data_info.iloc[:, 0])\n",
        "        \n",
        "        # Second column is the labels\n",
        "        self.label_arr = np.asarray(self.data_info.iloc[:, 1])\n",
        "        # Calculate len\n",
        "        self.data_len = len(self.data_info.index)\n",
        "        \n",
        "    def __getitem__(self, index):\n",
        "        # Get image name from the pandas df\n",
        "        single_image_name = self.image_arr[index]\n",
        "        # Open image\n",
        "        a=single_image_name[:-3] + \"png\"\n",
        "        single_image_name=a\n",
        "        img_as_img = imageio.imread(self.data_path + single_image_name)\n",
        "        # Open segmented mask\n",
        "        a = single_image_name[:2] + \"seg\" + single_image_name[2:]\n",
        "        imseg_name = a[:-3] + \"png\"\n",
        "        imgsg_as_img = imageio.imread(self.data_path + imseg_name)\n",
        "        \n",
        "        \n",
        "        # Get label(class) of the image based on the cropped pandas column\n",
        "        single_image_label = self.label_arr[index]\n",
        "        \n",
        "        return (img_as_img, single_image_label, imgsg_as_img)\n",
        "\n",
        "    def __len__(self):\n",
        "        return self.data_len"
      ],
      "execution_count": 0,
      "outputs": []
    },
    {
      "cell_type": "code",
      "metadata": {
        "id": "OY091zaqQhil",
        "colab_type": "code",
        "outputId": "8c3c7f85-ccf5-403f-e841-52be353555ff",
        "colab": {
          "base_uri": "https://localhost:8080/",
          "height": 51
        }
      },
      "source": [
        "mydata = SimpleDataset( \"./data1/\", \"labels.csv\")\n",
        "\n",
        "#splitting into images and labels \n",
        "X  = []\n",
        "y  = []\n",
        "Xs = []\n",
        "for i in range(len(mydata)):\n",
        "    X.append(mydata[i][0])\n",
        "    y.append((mydata[i][1]))\n",
        "    Xs.append(mydata[i][2])\n",
        "\n",
        "\n",
        "#converting into numpy arrays to enable easy reshaping and other array operations\n",
        "    \n",
        "X  = np.asarray(X)\n",
        "Xs = np.asarray(Xs)\n",
        "print(\"Shape of the input image\", X.shape, Xs.shape)\n",
        "y= np.asarray(y)\n",
        "\n",
        "X  = np.swapaxes(X,1,3)\n",
        "X  = np.swapaxes(X,2,3)\n",
        "print(\"Shape of the input image\", X.shape, Xs.shape,y.shape)"
      ],
      "execution_count": 4,
      "outputs": [
        {
          "output_type": "stream",
          "text": [
            "Shape of the input image (10000, 16, 16, 3) (10000, 16, 16)\n",
            "Shape of the input image (10000, 3, 16, 16) (10000, 16, 16) (10000,)\n"
          ],
          "name": "stdout"
        }
      ]
    },
    {
      "cell_type": "markdown",
      "metadata": {
        "id": "7AKWFIifTYrf",
        "colab_type": "text"
      },
      "source": [
        "Then we seperate the dataset into three part- train dataset: 500 datas; validation dataset: 500 datas; test dataset: 1000 datas"
      ]
    },
    {
      "cell_type": "code",
      "metadata": {
        "id": "VgANwUzdQoq8",
        "colab_type": "code",
        "outputId": "9e005bf7-0af5-4dc7-8b4f-e302d6c5ff1a",
        "colab": {
          "base_uri": "https://localhost:8080/",
          "height": 68
        }
      },
      "source": [
        "Xtr=X[:500,:,:,:]/255\n",
        "Xstr=Xs[:500,:,:]/255\n",
        "ytr=y[:500]\n",
        "\n",
        "Xval=X[8500:9000,:,:,:]/255 #need to change validation size for 32x32 & 64x64 images\n",
        "Xsval=Xs[8500:9000,:,:]/255\n",
        "yval=y[8500:9000]\n",
        "\n",
        "Xte=X[-1000:,:,:,:]/255 #need to change test size for 32x32 & 64x64 images\n",
        "Xste=Xs[-1000:,:,:]/255\n",
        "yte=y[-1000:]\n",
        "\n",
        "\n",
        "print(Xtr.shape,Xstr.shape,ytr.shape)\n",
        "print(Xval.shape,Xsval.shape,yval.shape)\n",
        "print(Xte.shape,Xste.shape,yte.shape)"
      ],
      "execution_count": 5,
      "outputs": [
        {
          "output_type": "stream",
          "text": [
            "(500, 3, 16, 16) (500, 16, 16) (500,)\n",
            "(500, 3, 16, 16) (500, 16, 16) (500,)\n",
            "(1000, 3, 16, 16) (1000, 16, 16) (1000,)\n"
          ],
          "name": "stdout"
        }
      ]
    },
    {
      "cell_type": "code",
      "metadata": {
        "id": "JXvizFdaQr51",
        "colab_type": "code",
        "outputId": "254f1d43-665f-4067-d290-5890b19f66e8",
        "colab": {
          "base_uri": "https://localhost:8080/",
          "height": 624
        }
      },
      "source": [
        "x=np.swapaxes(Xtr,1,3)\n",
        "x=np.swapaxes(x,1,2)\n",
        "plt.title(\"Input image example\")\n",
        "plt.xlabel(\"number:{}\" .format(ytr[0]))\n",
        "plt.imshow(x[0])\n",
        "\n",
        "plt.figure()\n",
        "plt.title(\"Ground truth example\")\n",
        "plt.xlabel(\"number:{}\" .format(ytr[0]))\n",
        "plt.imshow(Xstr[0],cmap='gray')\n",
        "\n",
        "a=np.amax(Xstr)\n",
        "print(\"Maximun value of ground truth image: {}\" .format(a))\n",
        "a=np.amin(Xstr)\n",
        "print(\"Minimum value of ground truth image: {}\" .format(a))\n",
        "a=np.mean(Xstr)\n",
        "print(\"Mean value of ground truth image: {:.4f}\" .format(a))"
      ],
      "execution_count": 6,
      "outputs": [
        {
          "output_type": "stream",
          "text": [
            "Maximun value of ground truth image: 1.0\n",
            "Minimum value of ground truth image: 0.0\n",
            "Mean value of ground truth image: 0.1530\n"
          ],
          "name": "stdout"
        },
        {
          "output_type": "display_data",
          "data": {
            "image/png": "[encoded data removed]",
            "text/plain": [
              "<Figure size 432x288 with 1 Axes>"
            ]
          },
          "metadata": {
            "tags": []
          }
        },
        {
          "output_type": "display_data",
          "data": {
            "image/png": "[encoded data removed]",
            "text/plain": [
              "<Figure size 432x288 with 1 Axes>"
            ]
          },
          "metadata": {
            "tags": []
          }
        }
      ]
    },
    {
      "cell_type": "code",
      "metadata": {
        "id": "9eGhvclSQuN7",
        "colab_type": "code",
        "outputId": "dc23abca-3f2f-4469-c9b4-9ff7932f5bf5",
        "colab": {
          "base_uri": "https://localhost:8080/",
          "height": 68
        }
      },
      "source": [
        "batch_size = 8\n",
        "'''\n",
        "inputs and segs are your data. \n",
        "'''\n",
        "targets=ytr\n",
        "\n",
        "inputs = torch.from_numpy(Xtr).float()\n",
        "targets = torch.from_numpy(targets).float()\n",
        "segs    = torch.from_numpy(Xstr).float()\n",
        "\n",
        "print('Size of inputs: {}'. format(inputs.shape))\n",
        "print('Size of ground truth: {}'. format(segs.shape))\n",
        "print(targets.shape)\n",
        "\n",
        "# Dataloader\n",
        "trainset = data_utils.TensorDataset(inputs, segs)\n",
        "trainloader = torch.utils.data.DataLoader(trainset, batch_size= batch_size, \n",
        "                                          shuffle=True, drop_last=True)"
      ],
      "execution_count": 7,
      "outputs": [
        {
          "output_type": "stream",
          "text": [
            "Size of inputs: torch.Size([500, 3, 16, 16])\n",
            "Size of ground truth: torch.Size([500, 16, 16])\n",
            "torch.Size([500])\n"
          ],
          "name": "stdout"
        }
      ]
    },
    {
      "cell_type": "code",
      "metadata": {
        "id": "xweMVHdkQ0UG",
        "colab_type": "code",
        "outputId": "6e15ab1b-3547-4997-d785-f75a8af041c0",
        "colab": {
          "base_uri": "https://localhost:8080/",
          "height": 68
        }
      },
      "source": [
        "targets=yval\n",
        "inputs = torch.from_numpy(Xval).float()\n",
        "targets = torch.from_numpy(targets).float()\n",
        "segs    = torch.from_numpy(Xsval).float()\n",
        "\n",
        "print('Size of inputs: {}'. format(inputs.shape))\n",
        "print('Size of ground truth: {}'. format(segs.shape))\n",
        "print(targets.shape)\n",
        "\n",
        "# Dataloader\n",
        "valset = data_utils.TensorDataset(inputs, segs)\n",
        "val_loader = torch.utils.data.DataLoader(valset, batch_size= batch_size, \n",
        "                                          shuffle=False, drop_last=True)"
      ],
      "execution_count": 8,
      "outputs": [
        {
          "output_type": "stream",
          "text": [
            "Size of inputs: torch.Size([500, 3, 16, 16])\n",
            "Size of ground truth: torch.Size([500, 16, 16])\n",
            "torch.Size([500])\n"
          ],
          "name": "stdout"
        }
      ]
    },
    {
      "cell_type": "code",
      "metadata": {
        "id": "9wSumohiQ5y4",
        "colab_type": "code",
        "colab": {}
      },
      "source": [
        "import torch \n",
        "import torch.nn as nn\n",
        "import torchvision\n",
        "import torchvision.transforms as transforms\n",
        "import torch.nn.functional as F\n",
        "\n",
        "\"\"\"2D U-net Style\"\"\"\n",
        "class conv_block(nn.Module):\n",
        "    def __init__(self, in_size, out_size, kernel_size=3):\n",
        "        super(conv_block, self).__init__()\n",
        "        \n",
        "        self.conv1 = nn.Conv2d(in_size, out_size, kernel_size= kernel_size, padding=1)\n",
        "        self.bn1 = nn.BatchNorm2d(out_size)\n",
        "        self.activation = F.relu\n",
        "        self.conv2 = nn.Conv2d(out_size, out_size, kernel_size= kernel_size, padding=1)\n",
        "        self.bn2 = nn.BatchNorm2d(out_size)\n",
        "        \n",
        "    def forward(self, x):\n",
        "        out = self.conv1(x)\n",
        "        out = self.bn1(out)\n",
        "        out = self.activation(out)\n",
        "        out = self.conv2(out)\n",
        "        out = self.bn2(out)            \n",
        "        out = self.activation(out)     \n",
        "        return out\n",
        "\n",
        "class up_block(nn.Module):\n",
        "    def __init__(self, in_size, out_size, kernel_size=3):\n",
        "        super(up_block, self).__init__()\n",
        "        \n",
        "        self.conv1 = nn.Conv2d(in_size, out_size, kernel_size= kernel_size, padding=1)\n",
        "        self.bn1 = nn.BatchNorm2d(out_size)\n",
        "        self.activation = F.relu\n",
        "        self.conv2 = nn.Conv2d(out_size, out_size, kernel_size= kernel_size, padding=1)\n",
        "        self.bn2 = nn.BatchNorm2d(out_size)     \n",
        "        \n",
        "    def forward(self, x, skip= None):\n",
        "        #print(\"\")\n",
        "        #print(x.shape)\n",
        "        out = torch.cat([x, skip], 1)\n",
        "        #print(out.shape)\n",
        "        out = self.conv1(out)\n",
        "        out = self.bn1(out)\n",
        "        out = self.activation(out)\n",
        "        out = self.conv2(out)\n",
        "        out = self.bn2(out)            \n",
        "        out = self.activation(out)     \n",
        "        return out   \n",
        "\n",
        "class unet2D(nn.Module):\n",
        "    def __init__(self):\n",
        "        super(unet2D, self).__init__()\n",
        "        self.activation = F.relu\n",
        "        \n",
        "        self.conv_block1 = conv_block(in_size= 3, out_size= 64)\n",
        "        self.conv_block2 = conv_block(in_size= 64, out_size= 128)\n",
        "        self.conv_block3 = conv_block(in_size= 128, out_size= 256)\n",
        "        self.conv_block4 = conv_block(in_size= 256, out_size= 512)\n",
        "        self.conv_block5 = conv_block(in_size= 512, out_size= 1024)\n",
        "        \n",
        "        self.down1 = nn.MaxPool2d(2)\n",
        "        self.down2 = nn.MaxPool2d(2)\n",
        "        self.down3 = nn.MaxPool2d(2)\n",
        "        self.down4 = nn.MaxPool2d(2)\n",
        "\n",
        "        self.up_conv1 = nn.ConvTranspose2d(1024, 512, kernel_size=2, stride=2)\n",
        "        self.up_conv2 = nn.ConvTranspose2d(512,  256, kernel_size=2, stride=2)\n",
        "        self.up_conv3 = nn.ConvTranspose2d(256, 128, kernel_size=2, stride=2)\n",
        "        self.up_conv4 = nn.ConvTranspose2d(128, 64, kernel_size=2, stride=2)\n",
        "        \n",
        "        self.up_block1 = up_block(in_size= 1024, out_size= 512)\n",
        "        self.up_block2 = up_block(in_size= 512, out_size= 256)\n",
        "        self.up_block3 = up_block(in_size= 256, out_size= 128)\n",
        "        self.up_block4 = up_block(in_size= 128, out_size= 64)\n",
        "        \n",
        "        self.final_conv = nn.Conv2d(64, 1, kernel_size= 1, padding=0)\n",
        "    \n",
        "    def forward(self, x):\n",
        "        skipA = self.conv_block1(x)\n",
        "        out = self.down1(skipA)\n",
        "        \n",
        "        skipB = self.conv_block2(out)\n",
        "        out = self.down2(skipB)\n",
        "        \n",
        "        skipC = self.conv_block3(out)\n",
        "        out = self.down3(skipC)\n",
        "        \n",
        "        skipD = self.conv_block4(out)\n",
        "        out = self.down4(skipD)\n",
        "        \n",
        "        out = self.conv_block5(out)\n",
        "        \n",
        "        out = self.up_conv1(out)\n",
        "        out = self.up_block1(out,skip= skipD)\n",
        "        \n",
        "        out = self.up_conv2(out)\n",
        "        out = self.up_block2(out,skip= skipC)        \n",
        "        \n",
        "        out = self.up_conv3(out)\n",
        "        out = self.up_block3(out,skip= skipB)  \n",
        "        \n",
        "        out = self.up_conv4(out)\n",
        "        out = self.up_block4(out,skip= skipA)\n",
        "        \n",
        "        out = self.final_conv(out)\n",
        "        \n",
        "        return F.sigmoid(out)"
      ],
      "execution_count": 0,
      "outputs": []
    },
    {
      "cell_type": "markdown",
      "metadata": {
        "id": "31BxKPjnTe9q",
        "colab_type": "text"
      },
      "source": [
        "\n",
        "Before we train the model, we need to set the parameters for the model, we set the epoch to be 5, the number of classes to be 1, and the learning rate to be 0.0001"
      ]
    },
    {
      "cell_type": "code",
      "metadata": {
        "id": "fjonv81kQ9hU",
        "colab_type": "code",
        "colab": {}
      },
      "source": [
        "model = unet2D()\n",
        "\n",
        "# Hyper parameters\n",
        "num_epochs = 5   #can increase this value\n",
        "num_classes = 1\n",
        "learning_rate = 0.0001\n",
        "optimizer = torch.optim.Adam(model.parameters(), lr=learning_rate)\n",
        "criterion = nn.BCELoss()"
      ],
      "execution_count": 0,
      "outputs": []
    },
    {
      "cell_type": "markdown",
      "metadata": {
        "id": "3YkNWk29TjC0",
        "colab_type": "text"
      },
      "source": [
        "Then we train the model"
      ]
    },
    {
      "cell_type": "code",
      "metadata": {
        "id": "WvD_M2_ERB7x",
        "colab_type": "code",
        "outputId": "6b683ff1-e586-4e5c-ad4e-0a5e08c1ea26",
        "colab": {
          "base_uri": "https://localhost:8080/",
          "height": 428
        }
      },
      "source": [
        "total_step = len(trainloader)\n",
        "resultstr = []\n",
        "resultsval = []\n",
        "for epoch in range(num_epochs):\n",
        "    for i, (images, labels) in enumerate(trainloader):\n",
        "        model.train()\n",
        "        images = Variable(images)\n",
        "        blabels1 = labels\n",
        "        nlab=blabels1.view(-1,1,16,16)\n",
        "        labels = Variable(nlab).type(torch.FloatTensor)\n",
        "        \n",
        "        # Forward pass\n",
        "        outputs = model(images)\n",
        "        loss = criterion(outputs, labels)\n",
        "        \n",
        "        #Calcualte Dice coefficient\n",
        "        out=outputs.data.numpy()\n",
        "        out=np.reshape(out,(-1,16,16))\n",
        "        out1=copy.deepcopy(out)\n",
        "        out1[out1>0.5]=1\n",
        "        out1[out1<=0.5]=0\n",
        "        lab=labels.data.numpy()\n",
        "        lab=np.reshape(lab,(-1,16,16))\n",
        "        dice = np.sum(out1[lab==1])*2.0 / (np.sum(out1) + np.sum(lab))\n",
        "\n",
        "        \n",
        "        # Backward and optimize\n",
        "        optimizer.zero_grad()\n",
        "        loss.backward()\n",
        "        optimizer.step()\n",
        "        if (i+1) % 31 == 0:\n",
        "            print ('Epoch [{}/{}], Step [{}/{}], TrLoss: {:.4f}, TrDice: {:.4f}' \n",
        "                   .format(epoch+1,num_epochs,i+1, total_step, loss.item(), dice))\n",
        "    resultstr.append([loss.item(),dice]) # keep them for further processing\n",
        "\n",
        "    #Do validation\n",
        "    for i, (images, labels) in enumerate(val_loader):\n",
        "        model.eval()\n",
        "        images = Variable(images,volatile=True)\n",
        "        blabels1 = labels\n",
        "        nlab=blabels1.view(-1,1,16,16)\n",
        "        labels = Variable(nlab).type(torch.FloatTensor)\n",
        "         \n",
        "        # Forward pass\n",
        "        outputs = model(images)\n",
        "        loss = criterion(outputs, labels)\n",
        "    \n",
        "        #Calcualte Dice coefficient\n",
        "        out=outputs.data.numpy()\n",
        "        out=np.reshape(out,(-1,16,16))\n",
        "        out1=copy.deepcopy(out)\n",
        "        out1[out1>0.5]=1\n",
        "        out1[out1<=0.5]=0\n",
        "        lab=labels.data.numpy()\n",
        "        lab=np.reshape(lab,(-1,16,16))\n",
        "        dice = np.sum(out1[lab==1])*2.0 / (np.sum(out1) + np.sum(lab))\n",
        "        \n",
        "        if (i+1) % 31 == 0:\n",
        "            print ('Epoch [{}/{}], Step [{}/{}], ValLoss: {:.4f}, ValDice: {:.4f}' \n",
        "                   .format(epoch+1,num_epochs,i+1, total_step, loss.item(), dice))\n",
        "    resultsval.append([loss.item(),dice]) "
      ],
      "execution_count": 11,
      "outputs": [
        {
          "output_type": "stream",
          "text": [
            "/usr/local/lib/python3.6/dist-packages/torch/nn/functional.py:1351: UserWarning: nn.functional.sigmoid is deprecated. Use torch.sigmoid instead.\n",
            "  warnings.warn(\"nn.functional.sigmoid is deprecated. Use torch.sigmoid instead.\")\n"
          ],
          "name": "stderr"
        },
        {
          "output_type": "stream",
          "text": [
            "Epoch [1/5], Step [31/62], TrLoss: 0.2954, TrDice: 0.8957\n",
            "Epoch [1/5], Step [62/62], TrLoss: 0.2595, TrDice: 0.8883\n"
          ],
          "name": "stdout"
        },
        {
          "output_type": "stream",
          "text": [
            "/usr/local/lib/python3.6/dist-packages/ipykernel_launcher.py:39: UserWarning: volatile was removed and now has no effect. Use `with torch.no_grad():` instead.\n"
          ],
          "name": "stderr"
        },
        {
          "output_type": "stream",
          "text": [
            "Epoch [1/5], Step [31/62], ValLoss: 0.2689, ValDice: 0.9025\n",
            "Epoch [1/5], Step [62/62], ValLoss: 0.2423, ValDice: 0.9746\n",
            "Epoch [2/5], Step [31/62], TrLoss: 0.2007, TrDice: 0.9934\n",
            "Epoch [2/5], Step [62/62], TrLoss: 0.1602, TrDice: 1.0000\n",
            "Epoch [2/5], Step [31/62], ValLoss: 0.1838, ValDice: 0.9918\n",
            "Epoch [2/5], Step [62/62], ValLoss: 0.1736, ValDice: 1.0000\n",
            "Epoch [3/5], Step [31/62], TrLoss: 0.1785, TrDice: 0.9907\n",
            "Epoch [3/5], Step [62/62], TrLoss: 0.1505, TrDice: 1.0000\n",
            "Epoch [3/5], Step [31/62], ValLoss: 0.1584, ValDice: 0.9967\n",
            "Epoch [3/5], Step [62/62], ValLoss: 0.1559, ValDice: 1.0000\n",
            "Epoch [4/5], Step [31/62], TrLoss: 0.1388, TrDice: 0.9983\n",
            "Epoch [4/5], Step [62/62], TrLoss: 0.1368, TrDice: 0.9947\n",
            "Epoch [4/5], Step [31/62], ValLoss: 0.1434, ValDice: 0.9934\n",
            "Epoch [4/5], Step [62/62], ValLoss: 0.1383, ValDice: 1.0000\n",
            "Epoch [5/5], Step [31/62], TrLoss: 0.1314, TrDice: 1.0000\n",
            "Epoch [5/5], Step [62/62], TrLoss: 0.1191, TrDice: 0.9954\n",
            "Epoch [5/5], Step [31/62], ValLoss: 0.1200, ValDice: 0.9983\n",
            "Epoch [5/5], Step [62/62], ValLoss: 0.1177, ValDice: 1.0000\n"
          ],
          "name": "stdout"
        }
      ]
    },
    {
      "cell_type": "code",
      "metadata": {
        "id": "SYPmdWG8S3i-",
        "colab_type": "code",
        "outputId": "5f1d7815-c0f9-4666-c75b-2e3fb795bd1a",
        "colab": {
          "base_uri": "https://localhost:8080/",
          "height": 275
        }
      },
      "source": [
        "torch.save(model, 'unet1')"
      ],
      "execution_count": 12,
      "outputs": [
        {
          "output_type": "stream",
          "text": [
            "/usr/local/lib/python3.6/dist-packages/torch/serialization.py:292: UserWarning: Couldn't retrieve source code for container of type unet2D. It won't be checked for correctness upon loading.\n",
            "  \"type \" + obj.__name__ + \". It won't be checked \"\n",
            "/usr/local/lib/python3.6/dist-packages/torch/serialization.py:292: UserWarning: Couldn't retrieve source code for container of type conv_block. It won't be checked for correctness upon loading.\n",
            "  \"type \" + obj.__name__ + \". It won't be checked \"\n",
            "/usr/local/lib/python3.6/dist-packages/torch/serialization.py:292: UserWarning: Couldn't retrieve source code for container of type Conv2d. It won't be checked for correctness upon loading.\n",
            "  \"type \" + obj.__name__ + \". It won't be checked \"\n",
            "/usr/local/lib/python3.6/dist-packages/torch/serialization.py:292: UserWarning: Couldn't retrieve source code for container of type BatchNorm2d. It won't be checked for correctness upon loading.\n",
            "  \"type \" + obj.__name__ + \". It won't be checked \"\n",
            "/usr/local/lib/python3.6/dist-packages/torch/serialization.py:292: UserWarning: Couldn't retrieve source code for container of type MaxPool2d. It won't be checked for correctness upon loading.\n",
            "  \"type \" + obj.__name__ + \". It won't be checked \"\n",
            "/usr/local/lib/python3.6/dist-packages/torch/serialization.py:292: UserWarning: Couldn't retrieve source code for container of type ConvTranspose2d. It won't be checked for correctness upon loading.\n",
            "  \"type \" + obj.__name__ + \". It won't be checked \"\n",
            "/usr/local/lib/python3.6/dist-packages/torch/serialization.py:292: UserWarning: Couldn't retrieve source code for container of type up_block. It won't be checked for correctness upon loading.\n",
            "  \"type \" + obj.__name__ + \". It won't be checked \"\n"
          ],
          "name": "stderr"
        }
      ]
    },
    {
      "cell_type": "code",
      "metadata": {
        "id": "TQus5r2ZS7Iy",
        "colab_type": "code",
        "outputId": "f647da36-d063-4669-9581-b5381295133f",
        "colab": {
          "base_uri": "https://localhost:8080/",
          "height": 410
        }
      },
      "source": [
        "img=images.data.numpy()\n",
        "img=np.swapaxes(img,1,3)\n",
        "img=np.swapaxes(img,1,2)\n",
        "\n",
        "out=outputs.data.numpy()\n",
        "out=np.reshape(out,(-1,16,16))\n",
        "\n",
        "lab=labels.data.numpy()\n",
        "lab=np.reshape(lab,(-1,16,16))\n",
        "\n",
        "plt.figure(figsize=(15,2))\n",
        "for i in range(8):\n",
        "    l1_plot = plt.subplot(1, 8, i + 1)\n",
        "    l1_plot.imshow(img[i])\n",
        "    l1_plot.set_xticks(())\n",
        "    l1_plot.set_yticks(())\n",
        "plt.suptitle('Validation image Examples')\n",
        "plt.show()\n",
        "\n",
        "plt.figure(figsize=(15,2))\n",
        "for i in range(8):\n",
        "    l1_plot = plt.subplot(1, 8, i + 1)\n",
        "    l1_plot.imshow(out[i],cmap='gray')\n",
        "    l1_plot.set_xticks(())\n",
        "    l1_plot.set_yticks(())\n",
        "plt.suptitle('Validation image Output')\n",
        "plt.show()\n",
        "\n",
        "out1=copy.deepcopy(out)\n",
        "out1[out1>0.5]=1\n",
        "out1[out1<=0.5]=0\n",
        "\n",
        "plt.figure(figsize=(15,2))\n",
        "for i in range(0,8,1):\n",
        "    p=out1[i]\n",
        "    g=lab[i]\n",
        "    a=[p==1]\n",
        "    b=[g==1]\n",
        "    \n",
        "    c=(np.array(a)*np.array(b))*1\n",
        "    anb=np.logical_xor(a,c)*3\n",
        "    bna=np.logical_xor(b,c)*2\n",
        "    f=c+anb+bna\n",
        "    \n",
        "    brg = cm.get_cmap('brg', 256)\n",
        "    newcolors = brg(np.linspace(0, 1, 256))\n",
        "    black = np.array([0, 0, 0, 1])\n",
        "    green = np.array([0, 1, 0, 1])\n",
        "    blue = np.array([0, 0, 1, 1])\n",
        "    red = np.array([1, 0, 0, 1])\n",
        "    newcolors[0:62, :] = black\n",
        "    newcolors[62:126, :] = red\n",
        "    newcolors[190:, :] = green\n",
        "    newcolors[126:190,:] = blue\n",
        "    newcmp = ListedColormap(newcolors)\n",
        "\n",
        "    l1_plot = plt.subplot(1, 8, i + 1)\n",
        "    l1_plot.imshow(f.reshape(16,16),cmap=newcmp,vmin=0, vmax=3)\n",
        "    l1_plot.set_xticks(())\n",
        "    l1_plot.set_yticks(())\n",
        "    \n",
        "plt.suptitle('Validation image IOU Examples')\n",
        "plt.show()"
      ],
      "execution_count": 13,
      "outputs": [
        {
          "output_type": "display_data",
          "data": {
            "image/png": "[encoded data removed]",
            "text/plain": [
              "<Figure size 1080x144 with 8 Axes>"
            ]
          },
          "metadata": {
            "tags": []
          }
        },
        {
          "output_type": "display_data",
          "data": {
            "image/png": "[encoded data removed]",
            "text/plain": [
              "<Figure size 1080x144 with 8 Axes>"
            ]
          },
          "metadata": {
            "tags": []
          }
        },
        {
          "output_type": "display_data",
          "data": {
            "image/png": "[encoded data removed]",
            "text/plain": [
              "<Figure size 1080x144 with 8 Axes>"
            ]
          },
          "metadata": {
            "tags": []
          }
        }
      ]
    },
    {
      "cell_type": "code",
      "metadata": {
        "id": "__EGS2FnTBSB",
        "colab_type": "code",
        "outputId": "f29b7cd2-c741-4c8b-bfd2-487a9503dd73",
        "colab": {
          "base_uri": "https://localhost:8080/",
          "height": 295
        }
      },
      "source": [
        "resultsval=np.array(resultsval)\n",
        "resultstr=np.array(resultstr)\n",
        "\n",
        "valdice=resultsval[:,1]\n",
        "valloss=resultsval[:,0]\n",
        "trdice=resultstr[:,1]\n",
        "trloss=resultstr[:,0]\n",
        "x=np.arange(1, len(valdice)+1, 1)\n",
        "plt.plot(x,valdice)\n",
        "plt.plot(x,trdice)\n",
        "plt.ylabel('Dice coefficient')\n",
        "plt.xlabel('epoch')\n",
        "plt.legend(['validation', 'train'], loc='lower right')\n",
        "plt.title('Model Dice coefficient')\n",
        "plt.show()"
      ],
      "execution_count": 14,
      "outputs": [
        {
          "output_type": "display_data",
          "data": {
            "image/png": "[encoded data removed]",
            "text/plain": [
              "<Figure size 432x288 with 1 Axes>"
            ]
          },
          "metadata": {
            "tags": []
          }
        }
      ]
    },
    {
      "cell_type": "code",
      "metadata": {
        "id": "jazmAP-HTDKP",
        "colab_type": "code",
        "outputId": "08bdbce7-56e6-4d85-b8d0-e8515804327c",
        "colab": {
          "base_uri": "https://localhost:8080/",
          "height": 298
        }
      },
      "source": [
        "from matplotlib.ticker import (MultipleLocator)\n",
        "\n",
        "x=np.arange(1, len(valdice)+1, 1)\n",
        "fig, ax1=plt.subplots()\n",
        "\n",
        "color='tab:red'\n",
        "ax1.set_ylabel('loss', color=color,fontsize=13)\n",
        "ax1.plot(x,valloss,color=color)\n",
        "ax1.plot(x,trloss, color=color,linestyle='dashed')\n",
        "ax1.tick_params(axis='y', labelcolor=color)\n",
        "ax1.xaxis.set_major_locator(MultipleLocator(1))\n",
        "plt.xlabel('epoch', fontsize=13)\n",
        "plt.legend(['(solid) validation loss', '(dashed) train loss'], loc='best', handletextpad=0,\n",
        "           handlelength=0, fontsize=13)\n",
        "plt.title('Model loss & dice coefficient')\n",
        "\n",
        "color='tab:blue'\n",
        "ax2=ax1.twinx()\n",
        "ax2.set_ylabel('dice coefficient', color=color, fontsize=13)\n",
        "ax2.plot(x,valdice,color=color)\n",
        "ax2.plot(x,trdice,color=color,linestyle='dashed')\n",
        "ax2.tick_params(axis='y', labelcolor=color)\n",
        "\n",
        "plt.show()"
      ],
      "execution_count": 15,
      "outputs": [
        {
          "output_type": "display_data",
          "data": {
            "image/png": "[encoded data removed]",
            "text/plain": [
              "<Figure size 432x288 with 2 Axes>"
            ]
          },
          "metadata": {
            "tags": []
          }
        }
      ]
    },
    {
      "cell_type": "markdown",
      "metadata": {
        "id": "LCXKhZhaTq1Y",
        "colab_type": "text"
      },
      "source": [
        "After the training of the model, we use the test dataset to test the model, and the segmenatation efect is also shown below."
      ]
    },
    {
      "cell_type": "code",
      "metadata": {
        "id": "CiwX_d-zYpFJ",
        "colab_type": "code",
        "outputId": "e5f92722-56cb-454e-d87f-a566cc113379",
        "colab": {
          "base_uri": "https://localhost:8080/",
          "height": 68
        }
      },
      "source": [
        "targets=yte\n",
        "inputs = torch.from_numpy(Xte).float()\n",
        "targets = torch.from_numpy(targets).float()\n",
        "segs    = torch.from_numpy(Xste).float()\n",
        "\n",
        "print('Size of inputs: {}'. format(inputs.shape))\n",
        "print('Size of ground truth: {}'. format(segs.shape))\n",
        "print(targets.shape)\n",
        "\n",
        "# Dataloader\n",
        "teset = data_utils.TensorDataset(inputs, segs)\n",
        "test_loader = torch.utils.data.DataLoader(teset, batch_size= batch_size, \n",
        "                                          shuffle=False, drop_last=True)"
      ],
      "execution_count": 16,
      "outputs": [
        {
          "output_type": "stream",
          "text": [
            "Size of inputs: torch.Size([1000, 3, 16, 16])\n",
            "Size of ground truth: torch.Size([1000, 16, 16])\n",
            "torch.Size([1000])\n"
          ],
          "name": "stdout"
        }
      ]
    },
    {
      "cell_type": "code",
      "metadata": {
        "id": "RB2Bc8T-iW2E",
        "colab_type": "code",
        "outputId": "2c3fd23f-9e83-4586-fce7-495853117b57",
        "colab": {
          "base_uri": "https://localhost:8080/",
          "height": 445
        }
      },
      "source": [
        "resultsval2 = []\n",
        "total_step = len(test_loader)\n",
        "for epoch in range(num_epochs):\n",
        "  for i, (images, labels) in enumerate(test_loader):\n",
        "          model.eval()\n",
        "          images = Variable(images,volatile=True)\n",
        "          blabels1 = labels\n",
        "          nlab=blabels1.view(-1,1,16,16)\n",
        "          labels = Variable(nlab).type(torch.FloatTensor)\n",
        "          \n",
        "          # Forward pass\n",
        "          outputs = model(images)\n",
        "          loss = criterion(outputs, labels)\n",
        "      \n",
        "          #Calcualte Dice coefficient\n",
        "          out=outputs.data.numpy()\n",
        "          out=np.reshape(out,(-1,16,16))\n",
        "          out1=copy.deepcopy(out)\n",
        "          out1[out1>0.5]=1\n",
        "          out1[out1<=0.5]=0\n",
        "          lab=labels.data.numpy()\n",
        "          lab=np.reshape(lab,(-1,16,16))\n",
        "          dice = np.sum(out1[lab==1])*2.0 / (np.sum(out1) + np.sum(lab))\n",
        "          \n",
        "          if (i+1) % 31 == 0:\n",
        "              print ('Epoch [{}/{}], Step [{}/{}], TestLoss: {:.4f}, TestDice: {:.4f}' \n",
        "                    .format(epoch+1,num_epochs,i+1, total_step, loss.item(), dice))\n",
        "  resultsval2.append([loss.item(),dice]) "
      ],
      "execution_count": 17,
      "outputs": [
        {
          "output_type": "stream",
          "text": [
            "/usr/local/lib/python3.6/dist-packages/ipykernel_launcher.py:6: UserWarning: volatile was removed and now has no effect. Use `with torch.no_grad():` instead.\n",
            "  \n",
            "/usr/local/lib/python3.6/dist-packages/torch/nn/functional.py:1351: UserWarning: nn.functional.sigmoid is deprecated. Use torch.sigmoid instead.\n",
            "  warnings.warn(\"nn.functional.sigmoid is deprecated. Use torch.sigmoid instead.\")\n"
          ],
          "name": "stderr"
        },
        {
          "output_type": "stream",
          "text": [
            "Epoch [1/5], Step [31/125], TestLoss: 0.1201, TestDice: 0.9948\n",
            "Epoch [1/5], Step [62/125], TestLoss: 0.1172, TestDice: 0.9984\n",
            "Epoch [1/5], Step [93/125], TestLoss: 0.1131, TestDice: 1.0000\n",
            "Epoch [1/5], Step [124/125], TestLoss: 0.1149, TestDice: 1.0000\n",
            "Epoch [2/5], Step [31/125], TestLoss: 0.1201, TestDice: 0.9948\n",
            "Epoch [2/5], Step [62/125], TestLoss: 0.1172, TestDice: 0.9984\n",
            "Epoch [2/5], Step [93/125], TestLoss: 0.1131, TestDice: 1.0000\n",
            "Epoch [2/5], Step [124/125], TestLoss: 0.1149, TestDice: 1.0000\n",
            "Epoch [3/5], Step [31/125], TestLoss: 0.1201, TestDice: 0.9948\n",
            "Epoch [3/5], Step [62/125], TestLoss: 0.1172, TestDice: 0.9984\n",
            "Epoch [3/5], Step [93/125], TestLoss: 0.1131, TestDice: 1.0000\n",
            "Epoch [3/5], Step [124/125], TestLoss: 0.1149, TestDice: 1.0000\n",
            "Epoch [4/5], Step [31/125], TestLoss: 0.1201, TestDice: 0.9948\n",
            "Epoch [4/5], Step [62/125], TestLoss: 0.1172, TestDice: 0.9984\n",
            "Epoch [4/5], Step [93/125], TestLoss: 0.1131, TestDice: 1.0000\n",
            "Epoch [4/5], Step [124/125], TestLoss: 0.1149, TestDice: 1.0000\n",
            "Epoch [5/5], Step [31/125], TestLoss: 0.1201, TestDice: 0.9948\n",
            "Epoch [5/5], Step [62/125], TestLoss: 0.1172, TestDice: 0.9984\n",
            "Epoch [5/5], Step [93/125], TestLoss: 0.1131, TestDice: 1.0000\n",
            "Epoch [5/5], Step [124/125], TestLoss: 0.1149, TestDice: 1.0000\n"
          ],
          "name": "stdout"
        }
      ]
    },
    {
      "cell_type": "code",
      "metadata": {
        "id": "l5FsFb-lkntp",
        "colab_type": "code",
        "outputId": "f55dc5bc-7189-4a40-d757-ae9b11110d84",
        "colab": {
          "base_uri": "https://localhost:8080/",
          "height": 410
        }
      },
      "source": [
        "img=images.data.numpy()\n",
        "img=np.swapaxes(img,1,3)\n",
        "img=np.swapaxes(img,1,2)\n",
        "\n",
        "out=outputs.data.numpy()\n",
        "out=np.reshape(out,(-1,16,16))\n",
        "\n",
        "lab=labels.data.numpy()\n",
        "lab=np.reshape(lab,(-1,16,16))\n",
        "\n",
        "plt.figure(figsize=(15,2))\n",
        "for i in range(8):\n",
        "    l1_plot = plt.subplot(1, 8, i + 1)\n",
        "    l1_plot.imshow(img[i])\n",
        "    l1_plot.set_xticks(())\n",
        "    l1_plot.set_yticks(())\n",
        "plt.suptitle('Test image Examples')\n",
        "plt.show()\n",
        "\n",
        "plt.figure(figsize=(15,2))\n",
        "for i in range(8):\n",
        "    l1_plot = plt.subplot(1, 8, i + 1)\n",
        "    l1_plot.imshow(out[i],cmap='gray')\n",
        "    l1_plot.set_xticks(())\n",
        "    l1_plot.set_yticks(())\n",
        "plt.suptitle('Test image Output')\n",
        "plt.show()\n",
        "\n",
        "out1=copy.deepcopy(out)\n",
        "out1[out1>0.5]=1\n",
        "out1[out1<=0.5]=0\n",
        "\n",
        "plt.figure(figsize=(15,2))\n",
        "for i in range(0,8,1):\n",
        "    p=out1[i]\n",
        "    g=lab[i]\n",
        "    a=[p==1]\n",
        "    b=[g==1]\n",
        "    \n",
        "    c=(np.array(a)*np.array(b))*1\n",
        "    anb=np.logical_xor(a,c)*3\n",
        "    bna=np.logical_xor(b,c)*2\n",
        "    f=c+anb+bna\n",
        "    \n",
        "    brg = cm.get_cmap('brg', 256)\n",
        "    newcolors = brg(np.linspace(0, 1, 256))\n",
        "    black = np.array([0, 0, 0, 1])\n",
        "    green = np.array([0, 1, 0, 1])\n",
        "    blue = np.array([0, 0, 1, 1])\n",
        "    red = np.array([1, 0, 0, 1])\n",
        "    newcolors[0:62, :] = black\n",
        "    newcolors[62:126, :] = red\n",
        "    newcolors[190:, :] = green\n",
        "    newcolors[126:190,:] = blue\n",
        "    newcmp = ListedColormap(newcolors)\n",
        "\n",
        "    l1_plot = plt.subplot(1, 8, i + 1)\n",
        "    l1_plot.imshow(f.reshape(16,16),cmap=newcmp,vmin=0, vmax=3)\n",
        "    l1_plot.set_xticks(())\n",
        "    l1_plot.set_yticks(())\n",
        "    \n",
        "plt.suptitle('Test image IOU Examples')\n",
        "plt.show()"
      ],
      "execution_count": 18,
      "outputs": [
        {
          "output_type": "display_data",
          "data": {
            "image/png": "[encoded data removed]",
            "text/plain": [
              "<Figure size 1080x144 with 8 Axes>"
            ]
          },
          "metadata": {
            "tags": []
          }
        },
        {
          "output_type": "display_data",
          "data": {
            "image/png": "[encoded data removed]",
            "text/plain": [
              "<Figure size 1080x144 with 8 Axes>"
            ]
          },
          "metadata": {
            "tags": []
          }
        },
        {
          "output_type": "display_data",
          "data": {
            "image/png": "[encoded data removed]",
            "text/plain": [
              "<Figure size 1080x144 with 8 Axes>"
            ]
          },
          "metadata": {
            "tags": []
          }
        }
      ]
    },
    {
      "cell_type": "markdown",
      "metadata": {
        "id": "Ee3iB1RRNu6G",
        "colab_type": "text"
      },
      "source": [
        "Test the color dataset on the model trained by the red dataset"
      ]
    },
    {
      "cell_type": "code",
      "metadata": {
        "id": "8iEOH2j6NtxS",
        "colab_type": "code",
        "colab": {}
      },
      "source": [
        "url = 'https://www.via.cornell.edu/ece5470/Lab9data1.zip'\n",
        "r=requests.get(url).content\n",
        "\n",
        "#save data in data dir\n",
        "z = zipfile.ZipFile(io.BytesIO(r))\n",
        "# os.mkdir('data1')\n",
        "z.extractall('./data1c')"
      ],
      "execution_count": 0,
      "outputs": []
    },
    {
      "cell_type": "code",
      "metadata": {
        "id": "98ocvVwkNy5Q",
        "colab_type": "code",
        "colab": {
          "base_uri": "https://localhost:8080/",
          "height": 51
        },
        "outputId": "e6bc7db6-9a20-42f4-80c2-770eee98b23b"
      },
      "source": [
        "mydata = SimpleDataset( \"./data1c/\", \"labels.csv\")\n",
        "\n",
        "#splitting into images and labels \n",
        "X  = []\n",
        "y  = []\n",
        "Xs = []\n",
        "for i in range(len(mydata)):\n",
        "    X.append(mydata[i][0])\n",
        "    y.append((mydata[i][1]))\n",
        "    Xs.append(mydata[i][2])\n",
        "\n",
        "\n",
        "#converting into numpy arrays to enable easy reshaping and other array operations\n",
        "    \n",
        "X  = np.asarray(X)\n",
        "Xs = np.asarray(Xs)\n",
        "print(\"Shape of the input image\", X.shape, Xs.shape)\n",
        "y= np.asarray(y)\n",
        "\n",
        "X  = np.swapaxes(X,1,3)\n",
        "X  = np.swapaxes(X,2,3)\n",
        "print(\"Shape of the input image\", X.shape, Xs.shape,y.shape)"
      ],
      "execution_count": 20,
      "outputs": [
        {
          "output_type": "stream",
          "text": [
            "Shape of the input image (10000, 16, 16, 3) (10000, 16, 16)\n",
            "Shape of the input image (10000, 3, 16, 16) (10000, 16, 16) (10000,)\n"
          ],
          "name": "stdout"
        }
      ]
    },
    {
      "cell_type": "code",
      "metadata": {
        "id": "QA2FAB9eN5H_",
        "colab_type": "code",
        "colab": {
          "base_uri": "https://localhost:8080/",
          "height": 68
        },
        "outputId": "a3a5280b-0e11-428c-ea20-bed7baf642c5"
      },
      "source": [
        "Xtr=X[:500,:,:,:]/255\n",
        "Xstr=Xs[:500,:,:]/255\n",
        "ytr=y[:500]\n",
        "\n",
        "Xval=X[8500:9000,:,:,:]/255 #need to change validation size for 32x32 & 64x64 images\n",
        "Xsval=Xs[8500:9000,:,:]/255\n",
        "yval=y[8500:9000]\n",
        "\n",
        "Xte=X[-1000:,:,:,:]/255 #need to change test size for 32x32 & 64x64 images\n",
        "Xste=Xs[-1000:,:,:]/255\n",
        "yte=y[-1000:]\n",
        "\n",
        "\n",
        "print(Xtr.shape,Xstr.shape,ytr.shape)\n",
        "print(Xval.shape,Xsval.shape,yval.shape)\n",
        "print(Xte.shape,Xste.shape,yte.shape)"
      ],
      "execution_count": 21,
      "outputs": [
        {
          "output_type": "stream",
          "text": [
            "(500, 3, 16, 16) (500, 16, 16) (500,)\n",
            "(500, 3, 16, 16) (500, 16, 16) (500,)\n",
            "(1000, 3, 16, 16) (1000, 16, 16) (1000,)\n"
          ],
          "name": "stdout"
        }
      ]
    },
    {
      "cell_type": "code",
      "metadata": {
        "id": "-JSumNwhOK5c",
        "colab_type": "code",
        "colab": {
          "base_uri": "https://localhost:8080/",
          "height": 68
        },
        "outputId": "ebd4f48c-48b8-42a8-fd92-31f93f5c2484"
      },
      "source": [
        "targets=yte\n",
        "inputs = torch.from_numpy(Xte).float()\n",
        "targets = torch.from_numpy(targets).float()\n",
        "segs    = torch.from_numpy(Xste).float()\n",
        "\n",
        "print('Size of inputs: {}'. format(inputs.shape))\n",
        "print('Size of ground truth: {}'. format(segs.shape))\n",
        "print(targets.shape)\n",
        "\n",
        "# Dataloader\n",
        "teset = data_utils.TensorDataset(inputs, segs)\n",
        "test_loader = torch.utils.data.DataLoader(teset, batch_size= batch_size, \n",
        "                                          shuffle=False, drop_last=True)"
      ],
      "execution_count": 22,
      "outputs": [
        {
          "output_type": "stream",
          "text": [
            "Size of inputs: torch.Size([1000, 3, 16, 16])\n",
            "Size of ground truth: torch.Size([1000, 16, 16])\n",
            "torch.Size([1000])\n"
          ],
          "name": "stdout"
        }
      ]
    },
    {
      "cell_type": "code",
      "metadata": {
        "id": "ErlX_NkXOTjo",
        "colab_type": "code",
        "colab": {
          "base_uri": "https://localhost:8080/",
          "height": 445
        },
        "outputId": "4031d102-f3a8-4abc-a7b1-3cdc35827e2c"
      },
      "source": [
        "result_test = []\n",
        "total_step = len(test_loader)\n",
        "for epoch in range(num_epochs):\n",
        "  for i, (images, labels) in enumerate(test_loader):\n",
        "          model.eval()\n",
        "          images = Variable(images,volatile=True)\n",
        "          blabels1 = labels\n",
        "          nlab=blabels1.view(-1,1,16,16)\n",
        "          labels = Variable(nlab).type(torch.FloatTensor)\n",
        "          \n",
        "          # Forward pass\n",
        "          outputs = model(images)\n",
        "          loss = criterion(outputs, labels)\n",
        "      \n",
        "          #Calcualte Dice coefficient\n",
        "          out=outputs.data.numpy()\n",
        "          out=np.reshape(out,(-1,16,16))\n",
        "          out1=copy.deepcopy(out)\n",
        "          out1[out1>0.5]=1\n",
        "          out1[out1<=0.5]=0\n",
        "          lab=labels.data.numpy()\n",
        "          lab=np.reshape(lab,(-1,16,16))\n",
        "          dice = np.sum(out1[lab==1])*2.0 / (np.sum(out1) + np.sum(lab))\n",
        "          \n",
        "          if (i+1) % 31 == 0:\n",
        "              print ('Epoch [{}/{}], Step [{}/{}], TestLoss: {:.4f}, TestDice: {:.4f}' \n",
        "                    .format(epoch+1,num_epochs,i+1, total_step, loss.item(), dice))\n",
        "  result_test.append([loss.item(),dice]) "
      ],
      "execution_count": 23,
      "outputs": [
        {
          "output_type": "stream",
          "text": [
            "/usr/local/lib/python3.6/dist-packages/ipykernel_launcher.py:6: UserWarning: volatile was removed and now has no effect. Use `with torch.no_grad():` instead.\n",
            "  \n",
            "/usr/local/lib/python3.6/dist-packages/torch/nn/functional.py:1351: UserWarning: nn.functional.sigmoid is deprecated. Use torch.sigmoid instead.\n",
            "  warnings.warn(\"nn.functional.sigmoid is deprecated. Use torch.sigmoid instead.\")\n"
          ],
          "name": "stderr"
        },
        {
          "output_type": "stream",
          "text": [
            "Epoch [1/5], Step [31/125], TestLoss: 0.3738, TestDice: 0.2560\n",
            "Epoch [1/5], Step [62/125], TestLoss: 0.4123, TestDice: 0.0000\n",
            "Epoch [1/5], Step [93/125], TestLoss: 0.4155, TestDice: 0.0000\n",
            "Epoch [1/5], Step [124/125], TestLoss: 0.4324, TestDice: 0.0061\n",
            "Epoch [2/5], Step [31/125], TestLoss: 0.3738, TestDice: 0.2560\n",
            "Epoch [2/5], Step [62/125], TestLoss: 0.4123, TestDice: 0.0000\n",
            "Epoch [2/5], Step [93/125], TestLoss: 0.4155, TestDice: 0.0000\n",
            "Epoch [2/5], Step [124/125], TestLoss: 0.4324, TestDice: 0.0061\n",
            "Epoch [3/5], Step [31/125], TestLoss: 0.3738, TestDice: 0.2560\n",
            "Epoch [3/5], Step [62/125], TestLoss: 0.4123, TestDice: 0.0000\n",
            "Epoch [3/5], Step [93/125], TestLoss: 0.4155, TestDice: 0.0000\n",
            "Epoch [3/5], Step [124/125], TestLoss: 0.4324, TestDice: 0.0061\n",
            "Epoch [4/5], Step [31/125], TestLoss: 0.3738, TestDice: 0.2560\n",
            "Epoch [4/5], Step [62/125], TestLoss: 0.4123, TestDice: 0.0000\n",
            "Epoch [4/5], Step [93/125], TestLoss: 0.4155, TestDice: 0.0000\n",
            "Epoch [4/5], Step [124/125], TestLoss: 0.4324, TestDice: 0.0061\n",
            "Epoch [5/5], Step [31/125], TestLoss: 0.3738, TestDice: 0.2560\n",
            "Epoch [5/5], Step [62/125], TestLoss: 0.4123, TestDice: 0.0000\n",
            "Epoch [5/5], Step [93/125], TestLoss: 0.4155, TestDice: 0.0000\n",
            "Epoch [5/5], Step [124/125], TestLoss: 0.4324, TestDice: 0.0061\n"
          ],
          "name": "stdout"
        }
      ]
    },
    {
      "cell_type": "code",
      "metadata": {
        "id": "LIZX_SWfOVhW",
        "colab_type": "code",
        "colab": {
          "base_uri": "https://localhost:8080/",
          "height": 410
        },
        "outputId": "10361e1f-9479-41d4-bdcb-91b06f420812"
      },
      "source": [
        "img=images.data.numpy()\n",
        "img=np.swapaxes(img,1,3)\n",
        "img=np.swapaxes(img,1,2)\n",
        "\n",
        "out=outputs.data.numpy()\n",
        "out=np.reshape(out,(-1,16,16))\n",
        "\n",
        "lab=labels.data.numpy()\n",
        "lab=np.reshape(lab,(-1,16,16))\n",
        "\n",
        "plt.figure(figsize=(15,2))\n",
        "for i in range(8):\n",
        "    l1_plot = plt.subplot(1, 8, i + 1)\n",
        "    l1_plot.imshow(img[i])\n",
        "    l1_plot.set_xticks(())\n",
        "    l1_plot.set_yticks(())\n",
        "plt.suptitle('Test image Examples')\n",
        "plt.show()\n",
        "\n",
        "plt.figure(figsize=(15,2))\n",
        "for i in range(8):\n",
        "    l1_plot = plt.subplot(1, 8, i + 1)\n",
        "    l1_plot.imshow(out[i],cmap='gray')\n",
        "    l1_plot.set_xticks(())\n",
        "    l1_plot.set_yticks(())\n",
        "plt.suptitle('Test image Output')\n",
        "plt.show()\n",
        "\n",
        "out1=copy.deepcopy(out)\n",
        "out1[out1>0.5]=1\n",
        "out1[out1<=0.5]=0\n",
        "\n",
        "plt.figure(figsize=(15,2))\n",
        "for i in range(0,8,1):\n",
        "    p=out1[i]\n",
        "    g=lab[i]\n",
        "    a=[p==1]\n",
        "    b=[g==1]\n",
        "    \n",
        "    c=(np.array(a)*np.array(b))*1\n",
        "    anb=np.logical_xor(a,c)*3\n",
        "    bna=np.logical_xor(b,c)*2\n",
        "    f=c+anb+bna\n",
        "    \n",
        "    brg = cm.get_cmap('brg', 256)\n",
        "    newcolors = brg(np.linspace(0, 1, 256))\n",
        "    black = np.array([0, 0, 0, 1])\n",
        "    green = np.array([0, 1, 0, 1])\n",
        "    blue = np.array([0, 0, 1, 1])\n",
        "    red = np.array([1, 0, 0, 1])\n",
        "    newcolors[0:62, :] = black\n",
        "    newcolors[62:126, :] = red\n",
        "    newcolors[190:, :] = green\n",
        "    newcolors[126:190,:] = blue\n",
        "    newcmp = ListedColormap(newcolors)\n",
        "\n",
        "    l1_plot = plt.subplot(1, 8, i + 1)\n",
        "    l1_plot.imshow(f.reshape(16,16),cmap=newcmp,vmin=0, vmax=3)\n",
        "    l1_plot.set_xticks(())\n",
        "    l1_plot.set_yticks(())\n",
        "    \n",
        "plt.suptitle('Test image IOU Examples')\n",
        "plt.show()"
      ],
      "execution_count": 24,
      "outputs": [
        {
          "output_type": "display_data",
          "data": {
            "image/png": "[encoded data removed]",
            "text/plain": [
              "<Figure size 1080x144 with 8 Axes>"
            ]
          },
          "metadata": {
            "tags": []
          }
        },
        {
          "output_type": "display_data",
          "data": {
            "image/png": "[encoded data removed]",
            "text/plain": [
              "<Figure size 1080x144 with 8 Axes>"
            ]
          },
          "metadata": {
            "tags": []
          }
        },
        {
          "output_type": "display_data",
          "data": {
            "image/png": "[encoded data removed]",
            "text/plain": [
              "<Figure size 1080x144 with 8 Axes>"
            ]
          },
          "metadata": {
            "tags": []
          }
        }
      ]
    },
    {
      "cell_type": "code",
      "metadata": {
        "id": "p0s1zYUzOeIe",
        "colab_type": "code",
        "colab": {
          "base_uri": "https://localhost:8080/",
          "height": 295
        },
        "outputId": "9f19f7ea-74f3-4320-86ee-fee94ad12b98"
      },
      "source": [
        "resultsval=np.array(resultsval)\n",
        "resultstr=np.array(resultstr)\n",
        "\n",
        "valdice=resultsval[:,1]\n",
        "valloss=resultsval[:,0]\n",
        "trdice=resultstr[:,1]\n",
        "trloss=resultstr[:,0]\n",
        "x=np.arange(1, len(valdice)+1, 1)\n",
        "plt.plot(x,valdice)\n",
        "plt.plot(x,trdice)\n",
        "plt.ylabel('Dice coefficient')\n",
        "plt.xlabel('epoch')\n",
        "plt.legend(['validation', 'train'], loc='lower right')\n",
        "plt.title('Model Dice coefficient')\n",
        "plt.show()"
      ],
      "execution_count": 25,
      "outputs": [
        {
          "output_type": "display_data",
          "data": {
            "image/png": "[encoded data removed]",
            "text/plain": [
              "<Figure size 432x288 with 1 Axes>"
            ]
          },
          "metadata": {
            "tags": []
          }
        }
      ]
    },
    {
      "cell_type": "code",
      "metadata": {
        "id": "rjldFmMbOe12",
        "colab_type": "code",
        "colab": {
          "base_uri": "https://localhost:8080/",
          "height": 298
        },
        "outputId": "0f354a9f-be4f-4c50-f18a-5a9651fa3b86"
      },
      "source": [
        "from matplotlib.ticker import (MultipleLocator)\n",
        "\n",
        "x=np.arange(1, len(valdice)+1, 1)\n",
        "fig, ax1=plt.subplots()\n",
        "\n",
        "color='tab:red'\n",
        "ax1.set_ylabel('loss', color=color,fontsize=13)\n",
        "ax1.plot(x,valloss,color=color)\n",
        "ax1.plot(x,trloss, color=color,linestyle='dashed')\n",
        "ax1.tick_params(axis='y', labelcolor=color)\n",
        "ax1.xaxis.set_major_locator(MultipleLocator(1))\n",
        "plt.xlabel('epoch', fontsize=13)\n",
        "plt.legend(['(solid) validation loss', '(dashed) train loss'], loc='best', handletextpad=0,\n",
        "           handlelength=0, fontsize=13)\n",
        "plt.title('Model loss & dice coefficient')\n",
        "\n",
        "color='tab:blue'\n",
        "ax2=ax1.twinx()\n",
        "ax2.set_ylabel('dice coefficient', color=color, fontsize=13)\n",
        "ax2.plot(x,valdice,color=color)\n",
        "ax2.plot(x,trdice,color=color,linestyle='dashed')\n",
        "ax2.tick_params(axis='y', labelcolor=color)\n",
        "\n",
        "plt.show()"
      ],
      "execution_count": 26,
      "outputs": [
        {
          "output_type": "display_data",
          "data": {
            "image/png": "[encoded data removed]",
            "text/plain": [
              "<Figure size 432x288 with 2 Axes>"
            ]
          },
          "metadata": {
            "tags": []
          }
        }
      ]
    },
    {
      "cell_type": "markdown",
      "metadata": {
        "id": "M_4JirDGqQrK",
        "colab_type": "text"
      },
      "source": [
        "In this part, we sre performing segmentation based on the color dataset."
      ]
    },
    {
      "cell_type": "code",
      "metadata": {
        "id": "jQY-ajMZqTt7",
        "colab_type": "code",
        "colab": {}
      },
      "source": [
        "url = 'https://www.via.cornell.edu/ece5470/Lab9data1.zip'\n",
        "r=requests.get(url).content\n",
        "\n",
        "#save data in data dir\n",
        "z = zipfile.ZipFile(io.BytesIO(r))\n",
        "# os.mkdir('data1')\n",
        "z.extractall('./data1c')"
      ],
      "execution_count": 0,
      "outputs": []
    },
    {
      "cell_type": "code",
      "metadata": {
        "id": "F8s2FXDtqY7d",
        "colab_type": "code",
        "outputId": "9c7ffa1b-3192-41e6-e068-1e76ac31e5fc",
        "colab": {
          "base_uri": "https://localhost:8080/",
          "height": 51
        }
      },
      "source": [
        "mydata = SimpleDataset( \"./data1c/\", \"labels.csv\")\n",
        "\n",
        "#splitting into images and labels \n",
        "X  = []\n",
        "y  = []\n",
        "Xs = []\n",
        "for i in range(len(mydata)):\n",
        "    X.append(mydata[i][0])\n",
        "    y.append((mydata[i][1]))\n",
        "    Xs.append(mydata[i][2])\n",
        "\n",
        "\n",
        "#converting into numpy arrays to enable easy reshaping and other array operations\n",
        "    \n",
        "X  = np.asarray(X)\n",
        "Xs = np.asarray(Xs)\n",
        "print(\"Shape of the input image\", X.shape, Xs.shape)\n",
        "y= np.asarray(y)\n",
        "\n",
        "X  = np.swapaxes(X,1,3)\n",
        "X  = np.swapaxes(X,2,3)\n",
        "print(\"Shape of the input image\", X.shape, Xs.shape,y.shape)"
      ],
      "execution_count": 28,
      "outputs": [
        {
          "output_type": "stream",
          "text": [
            "Shape of the input image (10000, 16, 16, 3) (10000, 16, 16)\n",
            "Shape of the input image (10000, 3, 16, 16) (10000, 16, 16) (10000,)\n"
          ],
          "name": "stdout"
        }
      ]
    },
    {
      "cell_type": "code",
      "metadata": {
        "id": "anHTCrybqd0x",
        "colab_type": "code",
        "outputId": "4a6ba82d-41d2-4c69-f14d-64b876f9f5f9",
        "colab": {
          "base_uri": "https://localhost:8080/",
          "height": 68
        }
      },
      "source": [
        "Xtr=X[:500,:,:,:]/255\n",
        "Xstr=Xs[:500,:,:]/255\n",
        "ytr=y[:500]\n",
        "\n",
        "Xval=X[8500:9000,:,:,:]/255 #need to change validation size for 32x32 & 64x64 images\n",
        "Xsval=Xs[8500:9000,:,:]/255\n",
        "yval=y[8500:9000]\n",
        "\n",
        "Xte=X[-1000:,:,:,:]/255 #need to change test size for 32x32 & 64x64 images\n",
        "Xste=Xs[-1000:,:,:]/255\n",
        "yte=y[-1000:]\n",
        "\n",
        "\n",
        "print(Xtr.shape,Xstr.shape,ytr.shape)\n",
        "print(Xval.shape,Xsval.shape,yval.shape)\n",
        "print(Xte.shape,Xste.shape,yte.shape)"
      ],
      "execution_count": 29,
      "outputs": [
        {
          "output_type": "stream",
          "text": [
            "(500, 3, 16, 16) (500, 16, 16) (500,)\n",
            "(500, 3, 16, 16) (500, 16, 16) (500,)\n",
            "(1000, 3, 16, 16) (1000, 16, 16) (1000,)\n"
          ],
          "name": "stdout"
        }
      ]
    },
    {
      "cell_type": "code",
      "metadata": {
        "id": "0y5VygpTqj1f",
        "colab_type": "code",
        "outputId": "63fa08f6-2da8-498a-d4f8-a6e672d73549",
        "colab": {
          "base_uri": "https://localhost:8080/",
          "height": 624
        }
      },
      "source": [
        "x=np.swapaxes(Xtr,1,3)\n",
        "x=np.swapaxes(x,1,2)\n",
        "plt.title(\"Input image example\")\n",
        "plt.xlabel(\"number:{}\" .format(ytr[0]))\n",
        "plt.imshow(x[0])\n",
        "\n",
        "plt.figure()\n",
        "plt.title(\"Ground truth example\")\n",
        "plt.xlabel(\"number:{}\" .format(ytr[0]))\n",
        "plt.imshow(Xstr[0],cmap='gray')\n",
        "\n",
        "a=np.amax(Xstr)\n",
        "print(\"Maximun value of ground truth image: {}\" .format(a))\n",
        "a=np.amin(Xstr)\n",
        "print(\"Minimum value of ground truth image: {}\" .format(a))\n",
        "a=np.mean(Xstr)\n",
        "print(\"Mean value of ground truth image: {:.4f}\" .format(a))"
      ],
      "execution_count": 30,
      "outputs": [
        {
          "output_type": "stream",
          "text": [
            "Maximun value of ground truth image: 1.0\n",
            "Minimum value of ground truth image: 0.0\n",
            "Mean value of ground truth image: 0.1530\n"
          ],
          "name": "stdout"
        },
        {
          "output_type": "display_data",
          "data": {
            "image/png": "[encoded data removed]",
            "text/plain": [
              "<Figure size 432x288 with 1 Axes>"
            ]
          },
          "metadata": {
            "tags": []
          }
        },
        {
          "output_type": "display_data",
          "data": {
            "image/png": "[encoded data removed]",
            "text/plain": [
              "<Figure size 432x288 with 1 Axes>"
            ]
          },
          "metadata": {
            "tags": []
          }
        }
      ]
    },
    {
      "cell_type": "code",
      "metadata": {
        "id": "HstL_gNHqyl0",
        "colab_type": "code",
        "outputId": "6f20ae2d-0680-4965-d39d-0697f663a4bd",
        "colab": {
          "base_uri": "https://localhost:8080/",
          "height": 170
        }
      },
      "source": [
        "batch_size = 8\n",
        "'''\n",
        "inputs and segs are your data. \n",
        "'''\n",
        "targets=ytr\n",
        "\n",
        "inputs = torch.from_numpy(Xtr).float()\n",
        "targets = torch.from_numpy(targets).float()\n",
        "segs    = torch.from_numpy(Xstr).float()\n",
        "\n",
        "print('Size of inputs: {}'. format(inputs.shape))\n",
        "print('Size of ground truth: {}'. format(segs.shape))\n",
        "print(targets.shape)\n",
        "\n",
        "# Dataloader\n",
        "trainset = data_utils.TensorDataset(inputs, segs)\n",
        "trainloader = torch.utils.data.DataLoader(trainset, batch_size= batch_size, \n",
        "                                          shuffle=True, drop_last=True)\n",
        "\n",
        "targets=yte\n",
        "\n",
        "inputs = torch.from_numpy(Xte).float()\n",
        "targets = torch.from_numpy(targets).float()\n",
        "segs    = torch.from_numpy(Xste).float()\n",
        "\n",
        "testset = data_utils.TensorDataset(inputs, segs)\n",
        "testloader = torch.utils.data.DataLoader(testset, batch_size= batch_size, \n",
        "                                          shuffle=True, drop_last=True)\n",
        "\n",
        "print('Size of inputs: {}'. format(inputs.shape))\n",
        "print('Size of ground truth: {}'. format(segs.shape))\n",
        "print(targets.shape)\n",
        "\n",
        "targets=yval\n",
        "inputs = torch.from_numpy(Xval).float()\n",
        "targets = torch.from_numpy(targets).float()\n",
        "segs    = torch.from_numpy(Xsval).float()\n",
        "\n",
        "print('Size of inputs: {}'. format(inputs.shape))\n",
        "print('Size of ground truth: {}'. format(segs.shape))\n",
        "print(targets.shape)\n",
        "\n",
        "# Dataloader\n",
        "valset = data_utils.TensorDataset(inputs, segs)\n",
        "val_loader = torch.utils.data.DataLoader(valset, batch_size= batch_size, \n",
        "                                          shuffle=False, drop_last=True)"
      ],
      "execution_count": 31,
      "outputs": [
        {
          "output_type": "stream",
          "text": [
            "Size of inputs: torch.Size([500, 3, 16, 16])\n",
            "Size of ground truth: torch.Size([500, 16, 16])\n",
            "torch.Size([500])\n",
            "Size of inputs: torch.Size([1000, 3, 16, 16])\n",
            "Size of ground truth: torch.Size([1000, 16, 16])\n",
            "torch.Size([1000])\n",
            "Size of inputs: torch.Size([500, 3, 16, 16])\n",
            "Size of ground truth: torch.Size([500, 16, 16])\n",
            "torch.Size([500])\n"
          ],
          "name": "stdout"
        }
      ]
    },
    {
      "cell_type": "code",
      "metadata": {
        "id": "u-zphplXrXA1",
        "colab_type": "code",
        "colab": {}
      },
      "source": [
        "import torch \n",
        "import torch.nn as nn\n",
        "import torchvision\n",
        "import torchvision.transforms as transforms\n",
        "import torch.nn.functional as F\n",
        "\n",
        "\"\"\"2D U-net Style\"\"\"\n",
        "class conv_block(nn.Module):\n",
        "    def __init__(self, in_size, out_size, kernel_size=3):\n",
        "        super(conv_block, self).__init__()\n",
        "        \n",
        "        self.conv1 = nn.Conv2d(in_size, out_size, kernel_size= kernel_size, padding=1)\n",
        "        self.bn1 = nn.BatchNorm2d(out_size)\n",
        "        self.activation = F.relu\n",
        "        self.conv2 = nn.Conv2d(out_size, out_size, kernel_size= kernel_size, padding=1)\n",
        "        self.bn2 = nn.BatchNorm2d(out_size)\n",
        "        \n",
        "    def forward(self, x):\n",
        "        out = self.conv1(x)\n",
        "        out = self.bn1(out)\n",
        "        out = self.activation(out)\n",
        "        out = self.conv2(out)\n",
        "        out = self.bn2(out)            \n",
        "        out = self.activation(out)     \n",
        "        return out\n",
        "\n",
        "class up_block(nn.Module):\n",
        "    def __init__(self, in_size, out_size, kernel_size=3):\n",
        "        super(up_block, self).__init__()\n",
        "        \n",
        "        self.conv1 = nn.Conv2d(in_size, out_size, kernel_size= kernel_size, padding=1)\n",
        "        self.bn1 = nn.BatchNorm2d(out_size)\n",
        "        self.activation = F.relu\n",
        "        self.conv2 = nn.Conv2d(out_size, out_size, kernel_size= kernel_size, padding=1)\n",
        "        self.bn2 = nn.BatchNorm2d(out_size)     \n",
        "        \n",
        "    def forward(self, x, skip= None):\n",
        "        #print(\"\")\n",
        "        #print(x.shape)\n",
        "        out = torch.cat([x, skip], 1)\n",
        "        #print(out.shape)\n",
        "        out = self.conv1(out)\n",
        "        out = self.bn1(out)\n",
        "        out = self.activation(out)\n",
        "        out = self.conv2(out)\n",
        "        out = self.bn2(out)            \n",
        "        out = self.activation(out)     \n",
        "        return out   \n",
        "\n",
        "class unet2D(nn.Module):\n",
        "    def __init__(self):\n",
        "        super(unet2D, self).__init__()\n",
        "        self.activation = F.relu\n",
        "        \n",
        "        self.conv_block1 = conv_block(in_size= 3, out_size= 64)\n",
        "        self.conv_block2 = conv_block(in_size= 64, out_size= 128)\n",
        "        self.conv_block3 = conv_block(in_size= 128, out_size= 256)\n",
        "        self.conv_block4 = conv_block(in_size= 256, out_size= 512)\n",
        "        self.conv_block5 = conv_block(in_size= 512, out_size= 1024)\n",
        "        \n",
        "        self.down1 = nn.MaxPool2d(2)\n",
        "        self.down2 = nn.MaxPool2d(2)\n",
        "        self.down3 = nn.MaxPool2d(2)\n",
        "        self.down4 = nn.MaxPool2d(2)\n",
        "\n",
        "        self.up_conv1 = nn.ConvTranspose2d(1024, 512, kernel_size=2, stride=2)\n",
        "        self.up_conv2 = nn.ConvTranspose2d(512,  256, kernel_size=2, stride=2)\n",
        "        self.up_conv3 = nn.ConvTranspose2d(256, 128, kernel_size=2, stride=2)\n",
        "        self.up_conv4 = nn.ConvTranspose2d(128, 64, kernel_size=2, stride=2)\n",
        "        \n",
        "        self.up_block1 = up_block(in_size= 1024, out_size= 512)\n",
        "        self.up_block2 = up_block(in_size= 512, out_size= 256)\n",
        "        self.up_block3 = up_block(in_size= 256, out_size= 128)\n",
        "        self.up_block4 = up_block(in_size= 128, out_size= 64)\n",
        "        \n",
        "        self.final_conv = nn.Conv2d(64, 1, kernel_size= 1, padding=0)\n",
        "    \n",
        "    def forward(self, x):\n",
        "        skipA = self.conv_block1(x)\n",
        "        out = self.down1(skipA)\n",
        "        \n",
        "        skipB = self.conv_block2(out)\n",
        "        out = self.down2(skipB)\n",
        "        \n",
        "        skipC = self.conv_block3(out)\n",
        "        out = self.down3(skipC)\n",
        "        \n",
        "        skipD = self.conv_block4(out)\n",
        "        out = self.down4(skipD)\n",
        "        \n",
        "        out = self.conv_block5(out)\n",
        "        \n",
        "        out = self.up_conv1(out)\n",
        "        out = self.up_block1(out,skip= skipD)\n",
        "        \n",
        "        out = self.up_conv2(out)\n",
        "        out = self.up_block2(out,skip= skipC)        \n",
        "        \n",
        "        out = self.up_conv3(out)\n",
        "        out = self.up_block3(out,skip= skipB)  \n",
        "        \n",
        "        out = self.up_conv4(out)\n",
        "        out = self.up_block4(out,skip= skipA)\n",
        "        \n",
        "        out = self.final_conv(out)\n",
        "        \n",
        "        return F.sigmoid(out)"
      ],
      "execution_count": 0,
      "outputs": []
    },
    {
      "cell_type": "code",
      "metadata": {
        "id": "m0hs-Tn_reCA",
        "colab_type": "code",
        "colab": {}
      },
      "source": [
        "model = unet2D()\n",
        "\n",
        "# Hyper parameters\n",
        "num_epochs = 15   #can increase this value\n",
        "num_classes = 1\n",
        "learning_rate = 0.0001\n",
        "optimizer = torch.optim.Adam(model.parameters(), lr=learning_rate)\n",
        "criterion = nn.BCELoss()"
      ],
      "execution_count": 0,
      "outputs": []
    },
    {
      "cell_type": "code",
      "metadata": {
        "id": "lIAv0RFgrlnE",
        "colab_type": "code",
        "outputId": "81a50d89-2b46-490d-9032-2db0c01a06f8",
        "colab": {
          "base_uri": "https://localhost:8080/",
          "height": 1000
        }
      },
      "source": [
        "total_step = len(trainloader)\n",
        "resultstr = []\n",
        "resultsval = []\n",
        "for epoch in range(num_epochs):\n",
        "    for i, (images, labels) in enumerate(trainloader):\n",
        "        model.train()\n",
        "        images = Variable(images)\n",
        "        blabels1 = labels\n",
        "        nlab=blabels1.view(-1,1,16,16)\n",
        "        labels = Variable(nlab).type(torch.FloatTensor)\n",
        "        \n",
        "        # Forward pass\n",
        "        outputs = model(images)\n",
        "        loss = criterion(outputs, labels)\n",
        "        \n",
        "        #Calcualte Dice coefficient\n",
        "        out=outputs.data.numpy()\n",
        "        out=np.reshape(out,(-1,16,16))\n",
        "        out1=copy.deepcopy(out)\n",
        "        out1[out1>0.5]=1\n",
        "        out1[out1<=0.5]=0\n",
        "        lab=labels.data.numpy()\n",
        "        lab=np.reshape(lab,(-1,16,16))\n",
        "        dice = np.sum(out1[lab==1])*2.0 / (np.sum(out1) + np.sum(lab))\n",
        "\n",
        "        \n",
        "        # Backward and optimize\n",
        "        optimizer.zero_grad()\n",
        "        loss.backward()\n",
        "        optimizer.step()\n",
        "        if (i+1) % 31 == 0:\n",
        "            print ('Epoch [{}/{}], Step [{}/{}], TrLoss: {:.4f}, TrDice: {:.4f}' \n",
        "                   .format(epoch+1,num_epochs,i+1, total_step, loss.item(), dice))\n",
        "    resultstr.append([loss.item(),dice]) # keep them for further processing\n",
        "\n",
        "    #Do validation\n",
        "    for i, (images, labels) in enumerate(val_loader):\n",
        "        model.eval()\n",
        "        images = Variable(images,volatile=True)\n",
        "        blabels1 = labels\n",
        "        nlab=blabels1.view(-1,1,16,16)\n",
        "        labels = Variable(nlab).type(torch.FloatTensor)\n",
        "         \n",
        "        # Forward pass\n",
        "        outputs = model(images)\n",
        "        loss = criterion(outputs, labels)\n",
        "    \n",
        "        #Calcualte Dice coefficient\n",
        "        out=outputs.data.numpy()\n",
        "        out=np.reshape(out,(-1,16,16))\n",
        "        out1=copy.deepcopy(out)\n",
        "        out1[out1>0.5]=1\n",
        "        out1[out1<=0.5]=0\n",
        "        lab=labels.data.numpy()\n",
        "        lab=np.reshape(lab,(-1,16,16))\n",
        "        dice = np.sum(out1[lab==1])*2.0 / (np.sum(out1) + np.sum(lab))\n",
        "        \n",
        "        if (i+1) % 31 == 0:\n",
        "            print ('Epoch [{}/{}], Step [{}/{}], ValLoss: {:.4f}, ValDice: {:.4f}' \n",
        "                   .format(epoch+1,num_epochs,i+1, total_step, loss.item(), dice))\n",
        "    resultsval.append([loss.item(),dice]) "
      ],
      "execution_count": 34,
      "outputs": [
        {
          "output_type": "stream",
          "text": [
            "/usr/local/lib/python3.6/dist-packages/torch/nn/functional.py:1351: UserWarning: nn.functional.sigmoid is deprecated. Use torch.sigmoid instead.\n",
            "  warnings.warn(\"nn.functional.sigmoid is deprecated. Use torch.sigmoid instead.\")\n"
          ],
          "name": "stderr"
        },
        {
          "output_type": "stream",
          "text": [
            "Epoch [1/15], Step [31/62], TrLoss: 0.5184, TrDice: 0.6218\n",
            "Epoch [1/15], Step [62/62], TrLoss: 0.3928, TrDice: 0.7425\n"
          ],
          "name": "stdout"
        },
        {
          "output_type": "stream",
          "text": [
            "/usr/local/lib/python3.6/dist-packages/ipykernel_launcher.py:39: UserWarning: volatile was removed and now has no effect. Use `with torch.no_grad():` instead.\n"
          ],
          "name": "stderr"
        },
        {
          "output_type": "stream",
          "text": [
            "Epoch [1/15], Step [31/62], ValLoss: 0.3481, ValDice: 0.8177\n",
            "Epoch [1/15], Step [62/62], ValLoss: 0.3477, ValDice: 0.8198\n",
            "Epoch [2/15], Step [31/62], TrLoss: 0.3549, TrDice: 0.7970\n",
            "Epoch [2/15], Step [62/62], TrLoss: 0.2636, TrDice: 0.9369\n",
            "Epoch [2/15], Step [31/62], ValLoss: 0.2528, ValDice: 0.9414\n",
            "Epoch [2/15], Step [62/62], ValLoss: 0.2522, ValDice: 0.9214\n",
            "Epoch [3/15], Step [31/62], TrLoss: 0.2683, TrDice: 0.8632\n",
            "Epoch [3/15], Step [62/62], TrLoss: 0.2328, TrDice: 0.9452\n",
            "Epoch [3/15], Step [31/62], ValLoss: 0.2280, ValDice: 0.9582\n",
            "Epoch [3/15], Step [62/62], ValLoss: 0.2208, ValDice: 0.9595\n",
            "Epoch [4/15], Step [31/62], TrLoss: 0.2023, TrDice: 0.9654\n",
            "Epoch [4/15], Step [62/62], TrLoss: 0.1886, TrDice: 0.9789\n",
            "Epoch [4/15], Step [31/62], ValLoss: 0.1864, ValDice: 0.9723\n",
            "Epoch [4/15], Step [62/62], ValLoss: 0.1847, ValDice: 0.9761\n",
            "Epoch [5/15], Step [31/62], TrLoss: 0.2070, TrDice: 0.9233\n",
            "Epoch [5/15], Step [62/62], TrLoss: 0.1646, TrDice: 0.9868\n",
            "Epoch [5/15], Step [31/62], ValLoss: 0.1778, ValDice: 0.9724\n",
            "Epoch [5/15], Step [62/62], ValLoss: 0.1781, ValDice: 0.9595\n",
            "Epoch [6/15], Step [31/62], TrLoss: 0.1673, TrDice: 0.9855\n",
            "Epoch [6/15], Step [62/62], TrLoss: 0.1389, TrDice: 0.9940\n",
            "Epoch [6/15], Step [31/62], ValLoss: 0.1487, ValDice: 0.9820\n",
            "Epoch [6/15], Step [62/62], ValLoss: 0.1509, ValDice: 0.9755\n",
            "Epoch [7/15], Step [31/62], TrLoss: 0.1483, TrDice: 0.9691\n",
            "Epoch [7/15], Step [62/62], TrLoss: 0.1241, TrDice: 0.9968\n",
            "Epoch [7/15], Step [31/62], ValLoss: 0.1328, ValDice: 0.9819\n",
            "Epoch [7/15], Step [62/62], ValLoss: 0.1356, ValDice: 0.9669\n",
            "Epoch [8/15], Step [31/62], TrLoss: 0.1350, TrDice: 0.9821\n",
            "Epoch [8/15], Step [62/62], TrLoss: 0.1219, TrDice: 0.9873\n",
            "Epoch [8/15], Step [31/62], ValLoss: 0.1263, ValDice: 0.9821\n",
            "Epoch [8/15], Step [62/62], ValLoss: 0.1227, ValDice: 0.9855\n",
            "Epoch [9/15], Step [31/62], TrLoss: 0.0996, TrDice: 1.0000\n",
            "Epoch [9/15], Step [62/62], TrLoss: 0.1005, TrDice: 0.9969\n",
            "Epoch [9/15], Step [31/62], ValLoss: 0.1040, ValDice: 0.9869\n",
            "Epoch [9/15], Step [62/62], ValLoss: 0.1019, ValDice: 0.9887\n",
            "Epoch [10/15], Step [31/62], TrLoss: 0.0921, TrDice: 0.9968\n",
            "Epoch [10/15], Step [62/62], TrLoss: 0.0928, TrDice: 1.0000\n",
            "Epoch [10/15], Step [31/62], ValLoss: 0.1037, ValDice: 0.9821\n",
            "Epoch [10/15], Step [62/62], ValLoss: 0.1001, ValDice: 0.9871\n",
            "Epoch [11/15], Step [31/62], TrLoss: 0.0853, TrDice: 1.0000\n",
            "Epoch [11/15], Step [62/62], TrLoss: 0.0826, TrDice: 0.9982\n",
            "Epoch [11/15], Step [31/62], ValLoss: 0.0877, ValDice: 0.9819\n",
            "Epoch [11/15], Step [62/62], ValLoss: 0.0844, ValDice: 0.9837\n",
            "Epoch [12/15], Step [31/62], TrLoss: 0.0841, TrDice: 0.9954\n",
            "Epoch [12/15], Step [62/62], TrLoss: 0.0748, TrDice: 0.9964\n",
            "Epoch [12/15], Step [31/62], ValLoss: 0.0806, ValDice: 0.9868\n",
            "Epoch [12/15], Step [62/62], ValLoss: 0.0782, ValDice: 0.9886\n",
            "Epoch [13/15], Step [31/62], TrLoss: 0.0646, TrDice: 1.0000\n",
            "Epoch [13/15], Step [62/62], TrLoss: 0.0689, TrDice: 0.9965\n",
            "Epoch [13/15], Step [31/62], ValLoss: 0.0706, ValDice: 0.9885\n",
            "Epoch [13/15], Step [62/62], ValLoss: 0.0692, ValDice: 0.9870\n",
            "Epoch [14/15], Step [31/62], TrLoss: 0.0668, TrDice: 1.0000\n",
            "Epoch [14/15], Step [62/62], TrLoss: 0.0605, TrDice: 1.0000\n",
            "Epoch [14/15], Step [31/62], ValLoss: 0.0657, ValDice: 0.9852\n",
            "Epoch [14/15], Step [62/62], ValLoss: 0.0619, ValDice: 0.9869\n",
            "Epoch [15/15], Step [31/62], TrLoss: 0.0569, TrDice: 1.0000\n",
            "Epoch [15/15], Step [62/62], TrLoss: 0.0502, TrDice: 1.0000\n",
            "Epoch [15/15], Step [31/62], ValLoss: 0.0612, ValDice: 0.9885\n",
            "Epoch [15/15], Step [62/62], ValLoss: 0.0615, ValDice: 0.9804\n"
          ],
          "name": "stdout"
        }
      ]
    },
    {
      "cell_type": "code",
      "metadata": {
        "id": "EJbpPTANrqAm",
        "colab_type": "code",
        "outputId": "0835a3be-cd13-476b-d432-50bb2981cbf5",
        "colab": {
          "base_uri": "https://localhost:8080/",
          "height": 275
        }
      },
      "source": [
        "torch.save(model, 'unet1_1')"
      ],
      "execution_count": 35,
      "outputs": [
        {
          "output_type": "stream",
          "text": [
            "/usr/local/lib/python3.6/dist-packages/torch/serialization.py:292: UserWarning: Couldn't retrieve source code for container of type unet2D. It won't be checked for correctness upon loading.\n",
            "  \"type \" + obj.__name__ + \". It won't be checked \"\n",
            "/usr/local/lib/python3.6/dist-packages/torch/serialization.py:292: UserWarning: Couldn't retrieve source code for container of type conv_block. It won't be checked for correctness upon loading.\n",
            "  \"type \" + obj.__name__ + \". It won't be checked \"\n",
            "/usr/local/lib/python3.6/dist-packages/torch/serialization.py:292: UserWarning: Couldn't retrieve source code for container of type Conv2d. It won't be checked for correctness upon loading.\n",
            "  \"type \" + obj.__name__ + \". It won't be checked \"\n",
            "/usr/local/lib/python3.6/dist-packages/torch/serialization.py:292: UserWarning: Couldn't retrieve source code for container of type BatchNorm2d. It won't be checked for correctness upon loading.\n",
            "  \"type \" + obj.__name__ + \". It won't be checked \"\n",
            "/usr/local/lib/python3.6/dist-packages/torch/serialization.py:292: UserWarning: Couldn't retrieve source code for container of type MaxPool2d. It won't be checked for correctness upon loading.\n",
            "  \"type \" + obj.__name__ + \". It won't be checked \"\n",
            "/usr/local/lib/python3.6/dist-packages/torch/serialization.py:292: UserWarning: Couldn't retrieve source code for container of type ConvTranspose2d. It won't be checked for correctness upon loading.\n",
            "  \"type \" + obj.__name__ + \". It won't be checked \"\n",
            "/usr/local/lib/python3.6/dist-packages/torch/serialization.py:292: UserWarning: Couldn't retrieve source code for container of type up_block. It won't be checked for correctness upon loading.\n",
            "  \"type \" + obj.__name__ + \". It won't be checked \"\n"
          ],
          "name": "stderr"
        }
      ]
    },
    {
      "cell_type": "code",
      "metadata": {
        "id": "fClkvQHXrqrk",
        "colab_type": "code",
        "outputId": "3a6ee1a2-6127-4d76-ae5d-8beace8f4459",
        "colab": {
          "base_uri": "https://localhost:8080/",
          "height": 410
        }
      },
      "source": [
        "img=images.data.numpy()\n",
        "img=np.swapaxes(img,1,3)\n",
        "img=np.swapaxes(img,1,2)\n",
        "\n",
        "out=outputs.data.numpy()\n",
        "out=np.reshape(out,(-1,16,16))\n",
        "\n",
        "lab=labels.data.numpy()\n",
        "lab=np.reshape(lab,(-1,16,16))\n",
        "\n",
        "plt.figure(figsize=(15,2))\n",
        "for i in range(8):\n",
        "    l1_plot = plt.subplot(1, 8, i + 1)\n",
        "    l1_plot.imshow(img[i])\n",
        "    l1_plot.set_xticks(())\n",
        "    l1_plot.set_yticks(())\n",
        "plt.suptitle('Validation image Examples')\n",
        "plt.show()\n",
        "\n",
        "plt.figure(figsize=(15,2))\n",
        "for i in range(8):\n",
        "    l1_plot = plt.subplot(1, 8, i + 1)\n",
        "    l1_plot.imshow(out[i],cmap='gray')\n",
        "    l1_plot.set_xticks(())\n",
        "    l1_plot.set_yticks(())\n",
        "plt.suptitle('Validation image Output')\n",
        "plt.show()\n",
        "\n",
        "out1=copy.deepcopy(out)\n",
        "out1[out1>0.5]=1\n",
        "out1[out1<=0.5]=0\n",
        "\n",
        "plt.figure(figsize=(15,2))\n",
        "for i in range(0,8,1):\n",
        "    p=out1[i]\n",
        "    g=lab[i]\n",
        "    a=[p==1]\n",
        "    b=[g==1]\n",
        "    \n",
        "    c=(np.array(a)*np.array(b))*1\n",
        "    anb=np.logical_xor(a,c)*3\n",
        "    bna=np.logical_xor(b,c)*2\n",
        "    f=c+anb+bna\n",
        "    \n",
        "    brg = cm.get_cmap('brg', 256)\n",
        "    newcolors = brg(np.linspace(0, 1, 256))\n",
        "    black = np.array([0, 0, 0, 1])\n",
        "    green = np.array([0, 1, 0, 1])\n",
        "    blue = np.array([0, 0, 1, 1])\n",
        "    red = np.array([1, 0, 0, 1])\n",
        "    newcolors[0:62, :] = black\n",
        "    newcolors[62:126, :] = red\n",
        "    newcolors[190:, :] = green\n",
        "    newcolors[126:190,:] = blue\n",
        "    newcmp = ListedColormap(newcolors)\n",
        "\n",
        "    l1_plot = plt.subplot(1, 8, i + 1)\n",
        "    l1_plot.imshow(f.reshape(16,16),cmap=newcmp,vmin=0, vmax=3)\n",
        "    l1_plot.set_xticks(())\n",
        "    l1_plot.set_yticks(())\n",
        "    \n",
        "plt.suptitle('Validation image IOU Examples')\n",
        "plt.show()"
      ],
      "execution_count": 36,
      "outputs": [
        {
          "output_type": "display_data",
          "data": {
            "image/png": "[encoded data removed]",
            "text/plain": [
              "<Figure size 1080x144 with 8 Axes>"
            ]
          },
          "metadata": {
            "tags": []
          }
        },
        {
          "output_type": "display_data",
          "data": {
            "image/png": "[encoded data removed]",
            "text/plain": [
              "<Figure size 1080x144 with 8 Axes>"
            ]
          },
          "metadata": {
            "tags": []
          }
        },
        {
          "output_type": "display_data",
          "data": {
            "image/png": "[encoded data removed]",
            "text/plain": [
              "<Figure size 1080x144 with 8 Axes>"
            ]
          },
          "metadata": {
            "tags": []
          }
        }
      ]
    },
    {
      "cell_type": "code",
      "metadata": {
        "id": "NFZZEnRErv3n",
        "colab_type": "code",
        "outputId": "629f0743-d3f3-41dc-da84-40c089955e34",
        "colab": {
          "base_uri": "https://localhost:8080/",
          "height": 68
        }
      },
      "source": [
        "targets=yte\n",
        "inputs = torch.from_numpy(Xte).float()\n",
        "targets = torch.from_numpy(targets).float()\n",
        "segs    = torch.from_numpy(Xste).float()\n",
        "\n",
        "print('Size of inputs: {}'. format(inputs.shape))\n",
        "print('Size of ground truth: {}'. format(segs.shape))\n",
        "print(targets.shape)\n",
        "\n",
        "# Dataloader\n",
        "teset = data_utils.TensorDataset(inputs, segs)\n",
        "test_loader = torch.utils.data.DataLoader(teset, batch_size= batch_size, \n",
        "                                          shuffle=False, drop_last=True)"
      ],
      "execution_count": 37,
      "outputs": [
        {
          "output_type": "stream",
          "text": [
            "Size of inputs: torch.Size([1000, 3, 16, 16])\n",
            "Size of ground truth: torch.Size([1000, 16, 16])\n",
            "torch.Size([1000])\n"
          ],
          "name": "stdout"
        }
      ]
    },
    {
      "cell_type": "code",
      "metadata": {
        "id": "0LLUCmqlr3te",
        "colab_type": "code",
        "outputId": "540698c8-46b2-4080-82d8-13cd8d869714",
        "colab": {
          "base_uri": "https://localhost:8080/",
          "height": 1000
        }
      },
      "source": [
        "result_test = []\n",
        "total_step = len(test_loader)\n",
        "for epoch in range(num_epochs):\n",
        "  for i, (images, labels) in enumerate(test_loader):\n",
        "          model.eval()\n",
        "          images = Variable(images,volatile=True)\n",
        "          blabels1 = labels\n",
        "          nlab=blabels1.view(-1,1,16,16)\n",
        "          labels = Variable(nlab).type(torch.FloatTensor)\n",
        "          \n",
        "          # Forward pass\n",
        "          outputs = model(images)\n",
        "          loss = criterion(outputs, labels)\n",
        "      \n",
        "          #Calcualte Dice coefficient\n",
        "          out=outputs.data.numpy()\n",
        "          out=np.reshape(out,(-1,16,16))\n",
        "          out1=copy.deepcopy(out)\n",
        "          out1[out1>0.5]=1\n",
        "          out1[out1<=0.5]=0\n",
        "          lab=labels.data.numpy()\n",
        "          lab=np.reshape(lab,(-1,16,16))\n",
        "          dice = np.sum(out1[lab==1])*2.0 / (np.sum(out1) + np.sum(lab))\n",
        "          \n",
        "          if (i+1) % 31 == 0:\n",
        "              print ('Epoch [{}/{}], Step [{}/{}], TestLoss: {:.4f}, TestDice: {:.4f}' \n",
        "                    .format(epoch+1,num_epochs,i+1, total_step, loss.item(), dice))\n",
        "  result_test.append([loss.item(),dice]) "
      ],
      "execution_count": 38,
      "outputs": [
        {
          "output_type": "stream",
          "text": [
            "/usr/local/lib/python3.6/dist-packages/ipykernel_launcher.py:6: UserWarning: volatile was removed and now has no effect. Use `with torch.no_grad():` instead.\n",
            "  \n",
            "/usr/local/lib/python3.6/dist-packages/torch/nn/functional.py:1351: UserWarning: nn.functional.sigmoid is deprecated. Use torch.sigmoid instead.\n",
            "  warnings.warn(\"nn.functional.sigmoid is deprecated. Use torch.sigmoid instead.\")\n"
          ],
          "name": "stderr"
        },
        {
          "output_type": "stream",
          "text": [
            "Epoch [1/15], Step [31/125], TestLoss: 0.0656, TestDice: 0.9847\n",
            "Epoch [1/15], Step [62/125], TestLoss: 0.0584, TestDice: 0.9885\n",
            "Epoch [1/15], Step [93/125], TestLoss: 0.0718, TestDice: 0.9769\n",
            "Epoch [1/15], Step [124/125], TestLoss: 0.0677, TestDice: 0.9736\n",
            "Epoch [2/15], Step [31/125], TestLoss: 0.0656, TestDice: 0.9847\n",
            "Epoch [2/15], Step [62/125], TestLoss: 0.0584, TestDice: 0.9885\n",
            "Epoch [2/15], Step [93/125], TestLoss: 0.0718, TestDice: 0.9769\n",
            "Epoch [2/15], Step [124/125], TestLoss: 0.0677, TestDice: 0.9736\n",
            "Epoch [3/15], Step [31/125], TestLoss: 0.0656, TestDice: 0.9847\n",
            "Epoch [3/15], Step [62/125], TestLoss: 0.0584, TestDice: 0.9885\n",
            "Epoch [3/15], Step [93/125], TestLoss: 0.0718, TestDice: 0.9769\n",
            "Epoch [3/15], Step [124/125], TestLoss: 0.0677, TestDice: 0.9736\n",
            "Epoch [4/15], Step [31/125], TestLoss: 0.0656, TestDice: 0.9847\n",
            "Epoch [4/15], Step [62/125], TestLoss: 0.0584, TestDice: 0.9885\n",
            "Epoch [4/15], Step [93/125], TestLoss: 0.0718, TestDice: 0.9769\n",
            "Epoch [4/15], Step [124/125], TestLoss: 0.0677, TestDice: 0.9736\n",
            "Epoch [5/15], Step [31/125], TestLoss: 0.0656, TestDice: 0.9847\n",
            "Epoch [5/15], Step [62/125], TestLoss: 0.0584, TestDice: 0.9885\n",
            "Epoch [5/15], Step [93/125], TestLoss: 0.0718, TestDice: 0.9769\n",
            "Epoch [5/15], Step [124/125], TestLoss: 0.0677, TestDice: 0.9736\n",
            "Epoch [6/15], Step [31/125], TestLoss: 0.0656, TestDice: 0.9847\n",
            "Epoch [6/15], Step [62/125], TestLoss: 0.0584, TestDice: 0.9885\n",
            "Epoch [6/15], Step [93/125], TestLoss: 0.0718, TestDice: 0.9769\n",
            "Epoch [6/15], Step [124/125], TestLoss: 0.0677, TestDice: 0.9736\n",
            "Epoch [7/15], Step [31/125], TestLoss: 0.0656, TestDice: 0.9847\n",
            "Epoch [7/15], Step [62/125], TestLoss: 0.0584, TestDice: 0.9885\n",
            "Epoch [7/15], Step [93/125], TestLoss: 0.0718, TestDice: 0.9769\n",
            "Epoch [7/15], Step [124/125], TestLoss: 0.0677, TestDice: 0.9736\n",
            "Epoch [8/15], Step [31/125], TestLoss: 0.0656, TestDice: 0.9847\n",
            "Epoch [8/15], Step [62/125], TestLoss: 0.0584, TestDice: 0.9885\n",
            "Epoch [8/15], Step [93/125], TestLoss: 0.0718, TestDice: 0.9769\n",
            "Epoch [8/15], Step [124/125], TestLoss: 0.0677, TestDice: 0.9736\n",
            "Epoch [9/15], Step [31/125], TestLoss: 0.0656, TestDice: 0.9847\n",
            "Epoch [9/15], Step [62/125], TestLoss: 0.0584, TestDice: 0.9885\n",
            "Epoch [9/15], Step [93/125], TestLoss: 0.0718, TestDice: 0.9769\n",
            "Epoch [9/15], Step [124/125], TestLoss: 0.0677, TestDice: 0.9736\n",
            "Epoch [10/15], Step [31/125], TestLoss: 0.0656, TestDice: 0.9847\n",
            "Epoch [10/15], Step [62/125], TestLoss: 0.0584, TestDice: 0.9885\n",
            "Epoch [10/15], Step [93/125], TestLoss: 0.0718, TestDice: 0.9769\n",
            "Epoch [10/15], Step [124/125], TestLoss: 0.0677, TestDice: 0.9736\n",
            "Epoch [11/15], Step [31/125], TestLoss: 0.0656, TestDice: 0.9847\n",
            "Epoch [11/15], Step [62/125], TestLoss: 0.0584, TestDice: 0.9885\n",
            "Epoch [11/15], Step [93/125], TestLoss: 0.0718, TestDice: 0.9769\n",
            "Epoch [11/15], Step [124/125], TestLoss: 0.0677, TestDice: 0.9736\n",
            "Epoch [12/15], Step [31/125], TestLoss: 0.0656, TestDice: 0.9847\n",
            "Epoch [12/15], Step [62/125], TestLoss: 0.0584, TestDice: 0.9885\n",
            "Epoch [12/15], Step [93/125], TestLoss: 0.0718, TestDice: 0.9769\n",
            "Epoch [12/15], Step [124/125], TestLoss: 0.0677, TestDice: 0.9736\n",
            "Epoch [13/15], Step [31/125], TestLoss: 0.0656, TestDice: 0.9847\n",
            "Epoch [13/15], Step [62/125], TestLoss: 0.0584, TestDice: 0.9885\n",
            "Epoch [13/15], Step [93/125], TestLoss: 0.0718, TestDice: 0.9769\n",
            "Epoch [13/15], Step [124/125], TestLoss: 0.0677, TestDice: 0.9736\n",
            "Epoch [14/15], Step [31/125], TestLoss: 0.0656, TestDice: 0.9847\n",
            "Epoch [14/15], Step [62/125], TestLoss: 0.0584, TestDice: 0.9885\n",
            "Epoch [14/15], Step [93/125], TestLoss: 0.0718, TestDice: 0.9769\n",
            "Epoch [14/15], Step [124/125], TestLoss: 0.0677, TestDice: 0.9736\n",
            "Epoch [15/15], Step [31/125], TestLoss: 0.0656, TestDice: 0.9847\n",
            "Epoch [15/15], Step [62/125], TestLoss: 0.0584, TestDice: 0.9885\n",
            "Epoch [15/15], Step [93/125], TestLoss: 0.0718, TestDice: 0.9769\n",
            "Epoch [15/15], Step [124/125], TestLoss: 0.0677, TestDice: 0.9736\n"
          ],
          "name": "stdout"
        }
      ]
    },
    {
      "cell_type": "code",
      "metadata": {
        "id": "rloU6IW6r8Fs",
        "colab_type": "code",
        "outputId": "e7120d6c-3cc3-4999-d4f9-aa1eed608fb9",
        "colab": {
          "base_uri": "https://localhost:8080/",
          "height": 410
        }
      },
      "source": [
        "img=images.data.numpy()\n",
        "img=np.swapaxes(img,1,3)\n",
        "img=np.swapaxes(img,1,2)\n",
        "\n",
        "out=outputs.data.numpy()\n",
        "out=np.reshape(out,(-1,16,16))\n",
        "\n",
        "lab=labels.data.numpy()\n",
        "lab=np.reshape(lab,(-1,16,16))\n",
        "\n",
        "plt.figure(figsize=(15,2))\n",
        "for i in range(8):\n",
        "    l1_plot = plt.subplot(1, 8, i + 1)\n",
        "    l1_plot.imshow(img[i])\n",
        "    l1_plot.set_xticks(())\n",
        "    l1_plot.set_yticks(())\n",
        "plt.suptitle('Test image Examples')\n",
        "plt.show()\n",
        "\n",
        "plt.figure(figsize=(15,2))\n",
        "for i in range(8):\n",
        "    l1_plot = plt.subplot(1, 8, i + 1)\n",
        "    l1_plot.imshow(out[i],cmap='gray')\n",
        "    l1_plot.set_xticks(())\n",
        "    l1_plot.set_yticks(())\n",
        "plt.suptitle('Test image Output')\n",
        "plt.show()\n",
        "\n",
        "out1=copy.deepcopy(out)\n",
        "out1[out1>0.5]=1\n",
        "out1[out1<=0.5]=0\n",
        "\n",
        "plt.figure(figsize=(15,2))\n",
        "for i in range(0,8,1):\n",
        "    p=out1[i]\n",
        "    g=lab[i]\n",
        "    a=[p==1]\n",
        "    b=[g==1]\n",
        "    \n",
        "    c=(np.array(a)*np.array(b))*1\n",
        "    anb=np.logical_xor(a,c)*3\n",
        "    bna=np.logical_xor(b,c)*2\n",
        "    f=c+anb+bna\n",
        "    \n",
        "    brg = cm.get_cmap('brg', 256)\n",
        "    newcolors = brg(np.linspace(0, 1, 256))\n",
        "    black = np.array([0, 0, 0, 1])\n",
        "    green = np.array([0, 1, 0, 1])\n",
        "    blue = np.array([0, 0, 1, 1])\n",
        "    red = np.array([1, 0, 0, 1])\n",
        "    newcolors[0:62, :] = black\n",
        "    newcolors[62:126, :] = red\n",
        "    newcolors[190:, :] = green\n",
        "    newcolors[126:190,:] = blue\n",
        "    newcmp = ListedColormap(newcolors)\n",
        "\n",
        "    l1_plot = plt.subplot(1, 8, i + 1)\n",
        "    l1_plot.imshow(f.reshape(16,16),cmap=newcmp,vmin=0, vmax=3)\n",
        "    l1_plot.set_xticks(())\n",
        "    l1_plot.set_yticks(())\n",
        "    \n",
        "plt.suptitle('Test image IOU Examples')\n",
        "plt.show()"
      ],
      "execution_count": 39,
      "outputs": [
        {
          "output_type": "display_data",
          "data": {
            "image/png": "[encoded data removed]",
            "text/plain": [
              "<Figure size 1080x144 with 8 Axes>"
            ]
          },
          "metadata": {
            "tags": []
          }
        },
        {
          "output_type": "display_data",
          "data": {
            "image/png": "[encoded data removed]",
            "text/plain": [
              "<Figure size 1080x144 with 8 Axes>"
            ]
          },
          "metadata": {
            "tags": []
          }
        },
        {
          "output_type": "display_data",
          "data": {
            "image/png": "[encoded data removed]",
            "text/plain": [
              "<Figure size 1080x144 with 8 Axes>"
            ]
          },
          "metadata": {
            "tags": []
          }
        }
      ]
    },
    {
      "cell_type": "code",
      "metadata": {
        "id": "jKBgf9gMc3_k",
        "colab_type": "code",
        "outputId": "ae406668-f1af-4d5f-e73f-7b07b7546074",
        "colab": {
          "base_uri": "https://localhost:8080/",
          "height": 295
        }
      },
      "source": [
        "resultsval=np.array(resultsval)\n",
        "resultstr=np.array(resultstr)\n",
        "\n",
        "valdice=resultsval[:,1]\n",
        "valloss=resultsval[:,0]\n",
        "trdice=resultstr[:,1]\n",
        "trloss=resultstr[:,0]\n",
        "x=np.arange(1, len(valdice)+1, 1)\n",
        "plt.plot(x,valdice)\n",
        "plt.plot(x,trdice)\n",
        "plt.ylabel('Dice coefficient')\n",
        "plt.xlabel('epoch')\n",
        "plt.legend(['validation', 'train'], loc='lower right')\n",
        "plt.title('Model Dice coefficient')\n",
        "plt.show()"
      ],
      "execution_count": 40,
      "outputs": [
        {
          "output_type": "display_data",
          "data": {
            "image/png": "[encoded data removed]",
            "text/plain": [
              "<Figure size 432x288 with 1 Axes>"
            ]
          },
          "metadata": {
            "tags": []
          }
        }
      ]
    },
    {
      "cell_type": "code",
      "metadata": {
        "id": "UOnI2sYFc6MD",
        "colab_type": "code",
        "outputId": "899a4180-98f9-4d61-f0ce-fb29d103c786",
        "colab": {
          "base_uri": "https://localhost:8080/",
          "height": 298
        }
      },
      "source": [
        "from matplotlib.ticker import (MultipleLocator)\n",
        "\n",
        "x=np.arange(1, len(valdice)+1, 1)\n",
        "fig, ax1=plt.subplots()\n",
        "\n",
        "color='tab:red'\n",
        "ax1.set_ylabel('loss', color=color,fontsize=13)\n",
        "ax1.plot(x,valloss,color=color)\n",
        "ax1.plot(x,trloss, color=color,linestyle='dashed')\n",
        "ax1.tick_params(axis='y', labelcolor=color)\n",
        "ax1.xaxis.set_major_locator(MultipleLocator(1))\n",
        "plt.xlabel('epoch', fontsize=13)\n",
        "plt.legend(['(solid) validation loss', '(dashed) train loss'], loc='best', handletextpad=0,\n",
        "           handlelength=0, fontsize=13)\n",
        "plt.title('Model loss & dice coefficient')\n",
        "\n",
        "color='tab:blue'\n",
        "ax2=ax1.twinx()\n",
        "ax2.set_ylabel('dice coefficient', color=color, fontsize=13)\n",
        "ax2.plot(x,valdice,color=color)\n",
        "ax2.plot(x,trdice,color=color,linestyle='dashed')\n",
        "ax2.tick_params(axis='y', labelcolor=color)\n",
        "\n",
        "plt.show()"
      ],
      "execution_count": 41,
      "outputs": [
        {
          "output_type": "display_data",
          "data": {
            "image/png": "[encoded data removed]",
            "text/plain": [
              "<Figure size 432x288 with 2 Axes>"
            ]
          },
          "metadata": {
            "tags": []
          }
        }
      ]
    }
  ]
}